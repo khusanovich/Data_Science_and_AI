{
  "nbformat": 4,
  "nbformat_minor": 0,
  "metadata": {
    "colab": {
      "name": "2.1.3_math&statistics.ipynb",
      "provenance": [],
      "authorship_tag": "ABX9TyOkV7b7YeOWDQ2yT1kRZrgk",
      "include_colab_link": true
    },
    "kernelspec": {
      "name": "python3",
      "display_name": "Python 3"
    },
    "language_info": {
      "name": "python"
    }
  },
  "cells": [
    {
      "cell_type": "markdown",
      "metadata": {
        "id": "view-in-github",
        "colab_type": "text"
      },
      "source": [
        "<a href=\"https://colab.research.google.com/github/khusanovich/colab-jupyter_notebook/blob/main/2_1_3_math%26statistics.ipynb\" target=\"_parent\"><img src=\"https://colab.research.google.com/assets/colab-badge.svg\" alt=\"Open In Colab\"/></a>"
      ]
    },
    {
      "cell_type": "code",
      "execution_count": 1,
      "metadata": {
        "id": "7jUVZkJCIbV7"
      },
      "outputs": [],
      "source": [
        "import numpy as np"
      ]
    },
    {
      "cell_type": "code",
      "source": [
        "arr = np.random.randn(4, 5)\n",
        "arr"
      ],
      "metadata": {
        "colab": {
          "base_uri": "https://localhost:8080/"
        },
        "id": "pj985mxcUBdX",
        "outputId": "7b92095a-ce2f-463c-ad3b-5508fc865c8f"
      },
      "execution_count": 3,
      "outputs": [
        {
          "output_type": "execute_result",
          "data": {
            "text/plain": [
              "array([[ 1.28497948, -0.1709312 , -0.53160137,  1.48367992, -0.33974305],\n",
              "       [ 0.22961797,  1.02086398, -0.32577292,  1.50112543,  0.57448881],\n",
              "       [-0.91740088, -0.24024791, -0.35828232,  0.0341655 , -0.935298  ],\n",
              "       [-0.04435323,  0.52158242, -0.79110991, -0.19085096, -0.68762061]])"
            ]
          },
          "metadata": {},
          "execution_count": 3
        }
      ]
    },
    {
      "cell_type": "markdown",
      "source": [
        "### `sum` metodi"
      ],
      "metadata": {
        "id": "dBttlEHPUVM2"
      }
    },
    {
      "cell_type": "code",
      "source": [
        "arr.sum() # arr ning barcha elementlarni yig'indisini hisoblab beradi"
      ],
      "metadata": {
        "colab": {
          "base_uri": "https://localhost:8080/"
        },
        "id": "aoEbVkH3UOFC",
        "outputId": "74c6f53a-46e2-459b-c326-c19a0cf27f6c"
      },
      "execution_count": 5,
      "outputs": [
        {
          "output_type": "execute_result",
          "data": {
            "text/plain": [
              "1.1172911516624486"
            ]
          },
          "metadata": {},
          "execution_count": 5
        }
      ]
    },
    {
      "cell_type": "code",
      "source": [
        "# sum ning boshqacha usuli\n",
        "np.sum(arr)"
      ],
      "metadata": {
        "colab": {
          "base_uri": "https://localhost:8080/"
        },
        "id": "JKmz08fJUZhG",
        "outputId": "d15f7ab8-77d3-4f66-fc8f-98fb8c3778ca"
      },
      "execution_count": 7,
      "outputs": [
        {
          "output_type": "execute_result",
          "data": {
            "text/plain": [
              "1.1172911516624486"
            ]
          },
          "metadata": {},
          "execution_count": 7
        }
      ]
    },
    {
      "cell_type": "code",
      "source": [
        "arr.sum(axis=0) # ustun yi'gindi"
      ],
      "metadata": {
        "colab": {
          "base_uri": "https://localhost:8080/"
        },
        "id": "-SYm_KYfUjHD",
        "outputId": "803e408f-a82d-4cd5-9979-d99dd52458e7"
      },
      "execution_count": 8,
      "outputs": [
        {
          "output_type": "execute_result",
          "data": {
            "text/plain": [
              "array([ 0.55284334,  1.13126729, -2.00676653,  2.8281199 , -1.38817285])"
            ]
          },
          "metadata": {},
          "execution_count": 8
        }
      ]
    },
    {
      "cell_type": "code",
      "source": [
        "arr.sum(axis=1) # qator yig'indisi"
      ],
      "metadata": {
        "colab": {
          "base_uri": "https://localhost:8080/"
        },
        "id": "t6E4cePJU8OK",
        "outputId": "287f06f6-4b32-409a-87a1-55728f68a549"
      },
      "execution_count": 10,
      "outputs": [
        {
          "output_type": "execute_result",
          "data": {
            "text/plain": [
              "array([ 1.72638379,  3.00032327, -2.41706361, -1.1923523 ])"
            ]
          },
          "metadata": {},
          "execution_count": 10
        }
      ]
    },
    {
      "cell_type": "markdown",
      "source": [
        "### `mean` metodi"
      ],
      "metadata": {
        "id": "Vv_t6xXMVINL"
      }
    },
    {
      "cell_type": "code",
      "source": [
        "# mean o'rta arifmetikni hisoblaydi\n",
        "data = np.arange(4)"
      ],
      "metadata": {
        "id": "UPYi-vAtVCl0"
      },
      "execution_count": 13,
      "outputs": []
    },
    {
      "cell_type": "code",
      "source": [
        "data"
      ],
      "metadata": {
        "colab": {
          "base_uri": "https://localhost:8080/"
        },
        "id": "CMe6i9XaVU5B",
        "outputId": "da844e2e-5702-4f88-d4c2-3e77bb867cb0"
      },
      "execution_count": 14,
      "outputs": [
        {
          "output_type": "execute_result",
          "data": {
            "text/plain": [
              "array([0, 1, 2, 3])"
            ]
          },
          "metadata": {},
          "execution_count": 14
        }
      ]
    },
    {
      "cell_type": "code",
      "source": [
        "# o'rta arifmetik uchun oddiy misol\n",
        "mean = data.sum()/len(data)\n",
        "mean"
      ],
      "metadata": {
        "colab": {
          "base_uri": "https://localhost:8080/"
        },
        "id": "1mECvQ_tVVgW",
        "outputId": "3f20ea1f-5551-49a6-fbbc-baa3654502ad"
      },
      "execution_count": 15,
      "outputs": [
        {
          "output_type": "execute_result",
          "data": {
            "text/plain": [
              "1.5"
            ]
          },
          "metadata": {},
          "execution_count": 15
        }
      ]
    },
    {
      "cell_type": "code",
      "source": [
        "data.mean() # numpy mean"
      ],
      "metadata": {
        "colab": {
          "base_uri": "https://localhost:8080/"
        },
        "id": "oTCVQzl5Vgn-",
        "outputId": "f6b3ed71-a708-4a0c-a65b-896aa01c1b69"
      },
      "execution_count": 16,
      "outputs": [
        {
          "output_type": "execute_result",
          "data": {
            "text/plain": [
              "1.5"
            ]
          },
          "metadata": {},
          "execution_count": 16
        }
      ]
    },
    {
      "cell_type": "code",
      "source": [
        "np.mean(data) #numpy mean"
      ],
      "metadata": {
        "colab": {
          "base_uri": "https://localhost:8080/"
        },
        "id": "rj3f8fT6Vt5d",
        "outputId": "ecfe44c5-4871-4eed-a09f-5c2da0be36de"
      },
      "execution_count": 17,
      "outputs": [
        {
          "output_type": "execute_result",
          "data": {
            "text/plain": [
              "1.5"
            ]
          },
          "metadata": {},
          "execution_count": 17
        }
      ]
    },
    {
      "cell_type": "code",
      "source": [
        "arr"
      ],
      "metadata": {
        "colab": {
          "base_uri": "https://localhost:8080/"
        },
        "id": "qAgJasseV4AL",
        "outputId": "b33d3fe2-1082-4ebf-9411-86b33a302f67"
      },
      "execution_count": 18,
      "outputs": [
        {
          "output_type": "execute_result",
          "data": {
            "text/plain": [
              "array([[ 1.28497948, -0.1709312 , -0.53160137,  1.48367992, -0.33974305],\n",
              "       [ 0.22961797,  1.02086398, -0.32577292,  1.50112543,  0.57448881],\n",
              "       [-0.91740088, -0.24024791, -0.35828232,  0.0341655 , -0.935298  ],\n",
              "       [-0.04435323,  0.52158242, -0.79110991, -0.19085096, -0.68762061]])"
            ]
          },
          "metadata": {},
          "execution_count": 18
        }
      ]
    },
    {
      "cell_type": "code",
      "source": [
        "np.mean(arr) # arr arriyining o'rta arifmetigi"
      ],
      "metadata": {
        "colab": {
          "base_uri": "https://localhost:8080/"
        },
        "id": "bzFiS6yJV-XM",
        "outputId": "21ddeedb-e07b-479a-bc04-1e78a7194327"
      },
      "execution_count": 19,
      "outputs": [
        {
          "output_type": "execute_result",
          "data": {
            "text/plain": [
              "0.055864557583122434"
            ]
          },
          "metadata": {},
          "execution_count": 19
        }
      ]
    },
    {
      "cell_type": "code",
      "source": [
        "np.mean(arr, axis=0) # ustun bo'yicha o'rta arifmetik"
      ],
      "metadata": {
        "colab": {
          "base_uri": "https://localhost:8080/"
        },
        "id": "VZ6CodobWFQD",
        "outputId": "3fa39d9c-c78f-45a9-dcef-a38205cc31f9"
      },
      "execution_count": 20,
      "outputs": [
        {
          "output_type": "execute_result",
          "data": {
            "text/plain": [
              "array([ 0.13821084,  0.28281682, -0.50169163,  0.70702998, -0.34704321])"
            ]
          },
          "metadata": {},
          "execution_count": 20
        }
      ]
    },
    {
      "cell_type": "code",
      "source": [
        "np.mean(arr, axis=1) # har bir qator o'rta arifmetigi"
      ],
      "metadata": {
        "colab": {
          "base_uri": "https://localhost:8080/"
        },
        "id": "VK9poxBwWOQ-",
        "outputId": "90fe8163-6b72-4809-b4ab-e34d3c95d2be"
      },
      "execution_count": 21,
      "outputs": [
        {
          "output_type": "execute_result",
          "data": {
            "text/plain": [
              "array([ 0.34527676,  0.60006465, -0.48341272, -0.23847046])"
            ]
          },
          "metadata": {},
          "execution_count": 21
        }
      ]
    },
    {
      "cell_type": "markdown",
      "source": [
        "### `cumsum` metodi"
      ],
      "metadata": {
        "id": "-dZpgAKbWkoI"
      }
    },
    {
      "cell_type": "code",
      "source": [
        "data"
      ],
      "metadata": {
        "colab": {
          "base_uri": "https://localhost:8080/"
        },
        "id": "McEHElfcWd9B",
        "outputId": "e4ffdb69-ddba-4383-c627-6cb780418532"
      },
      "execution_count": 22,
      "outputs": [
        {
          "output_type": "execute_result",
          "data": {
            "text/plain": [
              "array([0, 1, 2, 3])"
            ]
          },
          "metadata": {},
          "execution_count": 22
        }
      ]
    },
    {
      "cell_type": "code",
      "source": [
        "data.cumsum() # o'zigacha bo'lgan sonlarni qo'shib shu joyga yozadi(o'zi ham kiradi)"
      ],
      "metadata": {
        "colab": {
          "base_uri": "https://localhost:8080/"
        },
        "id": "Xf1iPngIWntS",
        "outputId": "40ba7440-b912-4c78-c6e7-c437025d481c"
      },
      "execution_count": 24,
      "outputs": [
        {
          "output_type": "execute_result",
          "data": {
            "text/plain": [
              "array([0, 1, 3, 6])"
            ]
          },
          "metadata": {},
          "execution_count": 24
        }
      ]
    },
    {
      "cell_type": "code",
      "source": [
        ""
      ],
      "metadata": {
        "id": "34pVPQKVWqk2"
      },
      "execution_count": null,
      "outputs": []
    }
  ]
}