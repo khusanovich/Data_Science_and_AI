{
  "nbformat": 4,
  "nbformat_minor": 0,
  "metadata": {
    "colab": {
      "name": "2.1.3_logical_set.ipynb",
      "provenance": [],
      "authorship_tag": "ABX9TyNdvGhxqsvvzwTCOfXb6lQO",
      "include_colab_link": true
    },
    "kernelspec": {
      "name": "python3",
      "display_name": "Python 3"
    },
    "language_info": {
      "name": "python"
    }
  },
  "cells": [
    {
      "cell_type": "markdown",
      "metadata": {
        "id": "view-in-github",
        "colab_type": "text"
      },
      "source": [
        "<a href=\"https://colab.research.google.com/github/khusanovich/colab-jupyter_notebook/blob/main/2_1_3_logical_set.ipynb\" target=\"_parent\"><img src=\"https://colab.research.google.com/assets/colab-badge.svg\" alt=\"Open In Colab\"/></a>"
      ]
    },
    {
      "cell_type": "code",
      "execution_count": 1,
      "metadata": {
        "id": "6-cDCB6zFVBa"
      },
      "outputs": [],
      "source": [
        "import numpy as np"
      ]
    },
    {
      "cell_type": "markdown",
      "source": [
        "### 2.1.3. Massivga yo'naltirilgan dasturlash\n",
        "### Mantiqiy shart operatorlarni massiv operator sifatida qo'llash\n",
        "### Shart operatori sifatida `where` dan foydalanish\n",
        "### Tassavur qiling bizda ikkita ma'lumotlar (massivlar) mavjud bular: `xarr` va `yarr`. Agarda shart `True`ni qanoatlantirsa `xarr` elementini qabul qilgan aksincha esa `yarr` elementini qabul qilgan yangi massiv hosil qilinsin."
      ],
      "metadata": {
        "id": "k8OeCC19Lw1J"
      }
    },
    {
      "cell_type": "code",
      "source": [
        "arr0 = np.array([0, 2, 4, 6])\n",
        "arr1 = np.array([1, 3, 5, 7])"
      ],
      "metadata": {
        "id": "NmPTqCRFLl_K"
      },
      "execution_count": 2,
      "outputs": []
    },
    {
      "cell_type": "code",
      "source": [
        "# shart\n",
        "cond = np.array([True, True, False, False])"
      ],
      "metadata": {
        "id": "VTX1NSIBMIQF"
      },
      "execution_count": 3,
      "outputs": []
    },
    {
      "cell_type": "code",
      "source": [
        "# where\n",
        "result = np.where(cond, arr0, arr1)"
      ],
      "metadata": {
        "id": "9KnV4G4zMcFf"
      },
      "execution_count": 5,
      "outputs": []
    },
    {
      "cell_type": "code",
      "source": [
        "result"
      ],
      "metadata": {
        "colab": {
          "base_uri": "https://localhost:8080/"
        },
        "id": "jS5Xm0y1MtAW",
        "outputId": "fb541731-4555-4db1-9cc2-81e5f19d0c69"
      },
      "execution_count": 6,
      "outputs": [
        {
          "output_type": "execute_result",
          "data": {
            "text/plain": [
              "array([0, 2, 5, 7])"
            ]
          },
          "metadata": {},
          "execution_count": 6
        }
      ]
    },
    {
      "cell_type": "code",
      "source": [
        "arr3 = np.random.randint(10, size=(4, 4))"
      ],
      "metadata": {
        "id": "gsoSVFW4M3Ch"
      },
      "execution_count": 10,
      "outputs": []
    },
    {
      "cell_type": "code",
      "source": [
        "arr3"
      ],
      "metadata": {
        "colab": {
          "base_uri": "https://localhost:8080/"
        },
        "id": "4Lc4hElNNCWu",
        "outputId": "66658fcb-4ee8-4e9b-83f4-958bbea36c9e"
      },
      "execution_count": 12,
      "outputs": [
        {
          "output_type": "execute_result",
          "data": {
            "text/plain": [
              "array([[1, 8, 2, 3],\n",
              "       [0, 9, 8, 1],\n",
              "       [4, 0, 3, 4],\n",
              "       [0, 7, 7, 9]])"
            ]
          },
          "metadata": {},
          "execution_count": 12
        }
      ]
    },
    {
      "cell_type": "code",
      "source": [
        "results = np.where(arr3<4, 0, 1) # element 4 dan kichik bo'lsa 0 ni chiqar, aks holda 1 ni\n"
      ],
      "metadata": {
        "id": "n8RQvgk5NDux"
      },
      "execution_count": 19,
      "outputs": []
    },
    {
      "cell_type": "code",
      "source": [
        "results"
      ],
      "metadata": {
        "colab": {
          "base_uri": "https://localhost:8080/"
        },
        "id": "w2KL1iF5Nd7v",
        "outputId": "2797c31f-96f8-4723-8d06-8b12d4d790cb"
      },
      "execution_count": 20,
      "outputs": [
        {
          "output_type": "execute_result",
          "data": {
            "text/plain": [
              "array([[0, 1, 0, 0],\n",
              "       [0, 1, 1, 0],\n",
              "       [1, 0, 0, 1],\n",
              "       [0, 1, 1, 1]])"
            ]
          },
          "metadata": {},
          "execution_count": 20
        }
      ]
    },
    {
      "cell_type": "code",
      "source": [
        "results0 = np.where(arr3<9, 0, 1) # element 9 dan kichik bo'lsa 0 ni chiqar, aks holda 1 ni"
      ],
      "metadata": {
        "id": "IZVf3PGVNe0_"
      },
      "execution_count": 21,
      "outputs": []
    },
    {
      "cell_type": "code",
      "source": [
        "results0"
      ],
      "metadata": {
        "colab": {
          "base_uri": "https://localhost:8080/"
        },
        "id": "yn9JX0nmN1dj",
        "outputId": "865d3cd8-29e9-4064-ab63-fabf26f06b88"
      },
      "execution_count": 22,
      "outputs": [
        {
          "output_type": "execute_result",
          "data": {
            "text/plain": [
              "array([[0, 0, 0, 0],\n",
              "       [0, 1, 0, 0],\n",
              "       [0, 0, 0, 0],\n",
              "       [0, 0, 0, 1]])"
            ]
          },
          "metadata": {},
          "execution_count": 22
        }
      ]
    },
    {
      "cell_type": "code",
      "source": [
        ""
      ],
      "metadata": {
        "id": "Xa259Ju-N2mk"
      },
      "execution_count": null,
      "outputs": []
    }
  ]
}