{
  "nbformat": 4,
  "nbformat_minor": 0,
  "metadata": {
    "colab": {
      "name": "2.1.3_unique.ipynb",
      "provenance": [],
      "authorship_tag": "ABX9TyOS5eYc419KZUFGjN2+zwh8",
      "include_colab_link": true
    },
    "kernelspec": {
      "name": "python3",
      "display_name": "Python 3"
    },
    "language_info": {
      "name": "python"
    }
  },
  "cells": [
    {
      "cell_type": "markdown",
      "metadata": {
        "id": "view-in-github",
        "colab_type": "text"
      },
      "source": [
        "<a href=\"https://colab.research.google.com/github/khusanovich/colab-jupyter_notebook/blob/main/2_1_3_unique.ipynb\" target=\"_parent\"><img src=\"https://colab.research.google.com/assets/colab-badge.svg\" alt=\"Open In Colab\"/></a>"
      ]
    },
    {
      "cell_type": "code",
      "execution_count": 1,
      "metadata": {
        "id": "65U84Rl0hhyy"
      },
      "outputs": [],
      "source": [
        "import numpy as np"
      ]
    },
    {
      "cell_type": "code",
      "source": [
        "names = np.array(['Anvar', 'Aziz', 'Jasur', 'Botir', 'Azim', 'Jasur', 'Botir'])\n",
        "ints = np.array([1, 2, 5, 3, 1, 3, 0])"
      ],
      "metadata": {
        "id": "cgVyUeAvhote"
      },
      "execution_count": 4,
      "outputs": []
    },
    {
      "cell_type": "code",
      "source": [
        "np.unique(names) # # names dagi takrorlanmas elementlarni qaytaradi (takrorlansa ham faqat bittasini qabul qiladi)"
      ],
      "metadata": {
        "colab": {
          "base_uri": "https://localhost:8080/"
        },
        "id": "Se1yq4y3iIAn",
        "outputId": "e8b43843-56ca-4d8a-baff-d0e7da65277a"
      },
      "execution_count": 5,
      "outputs": [
        {
          "output_type": "execute_result",
          "data": {
            "text/plain": [
              "array(['Anvar', 'Azim', 'Aziz', 'Botir', 'Jasur'], dtype='<U5')"
            ]
          },
          "metadata": {},
          "execution_count": 5
        }
      ]
    },
    {
      "cell_type": "code",
      "source": [
        "set(names) # unique bilan bir xil ish qiladi"
      ],
      "metadata": {
        "colab": {
          "base_uri": "https://localhost:8080/"
        },
        "id": "j4MTldcDiQsl",
        "outputId": "a105a4e9-c68f-4be1-a5ca-e049aa05a2bc"
      },
      "execution_count": 6,
      "outputs": [
        {
          "output_type": "execute_result",
          "data": {
            "text/plain": [
              "{'Anvar', 'Azim', 'Aziz', 'Botir', 'Jasur'}"
            ]
          },
          "metadata": {},
          "execution_count": 6
        }
      ]
    },
    {
      "cell_type": "markdown",
      "source": [
        "### `in1d` usuli haqida"
      ],
      "metadata": {
        "id": "YC-re8ciijAc"
      }
    },
    {
      "cell_type": "code",
      "source": [
        "arr0 = np.array([0, 2, 4, 3, 5, 6, 7, 4, 5])\n",
        "arr1 = np.array([0, 3, 4])"
      ],
      "metadata": {
        "id": "jZb4xE_BiaSW"
      },
      "execution_count": 8,
      "outputs": []
    },
    {
      "cell_type": "code",
      "source": [
        "np.in1d(arr0, arr1) # arr0 dagi elementlar arr1 da bor yoki yo'qligini tekshiradi"
      ],
      "metadata": {
        "colab": {
          "base_uri": "https://localhost:8080/"
        },
        "id": "aAR4MAmaiwYN",
        "outputId": "bd1d191c-23c7-481d-cce1-23b40205c4bc"
      },
      "execution_count": 9,
      "outputs": [
        {
          "output_type": "execute_result",
          "data": {
            "text/plain": [
              "array([ True, False,  True,  True, False, False, False,  True, False])"
            ]
          },
          "metadata": {},
          "execution_count": 9
        }
      ]
    },
    {
      "cell_type": "markdown",
      "source": [
        "### `setdiff1d` usuli haqida"
      ],
      "metadata": {
        "id": "OnE9WNFajUEG"
      }
    },
    {
      "cell_type": "code",
      "source": [
        "names0 = np.array(['Jasur', 'Isomiddin', 'Turob', 'Javohir', 'Erkin', \"Xo'ja\"])\n",
        "names1 = np.array(['Jasur', 'Turob', 'Jahongir', 'Karimjon', 'Doniyor'])"
      ],
      "metadata": {
        "id": "KPnltKJTjDko"
      },
      "execution_count": 10,
      "outputs": []
    },
    {
      "cell_type": "code",
      "source": [
        "np.setdiff1d(names0, names1) # names0 dagi ismlarning names1 da yo'qlarini qaytaradi"
      ],
      "metadata": {
        "colab": {
          "base_uri": "https://localhost:8080/"
        },
        "id": "rtbOslPHkJOB",
        "outputId": "28475ff1-73fd-4af2-d9d7-ab4f8ad6df79"
      },
      "execution_count": 12,
      "outputs": [
        {
          "output_type": "execute_result",
          "data": {
            "text/plain": [
              "array(['Erkin', 'Isomiddin', 'Javohir', \"Xo'ja\"], dtype='<U9')"
            ]
          },
          "metadata": {},
          "execution_count": 12
        }
      ]
    },
    {
      "cell_type": "code",
      "source": [
        ""
      ],
      "metadata": {
        "id": "dHeNeEI1kPy9"
      },
      "execution_count": null,
      "outputs": []
    }
  ]
}