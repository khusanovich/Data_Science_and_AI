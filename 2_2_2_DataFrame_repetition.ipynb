{
  "nbformat": 4,
  "nbformat_minor": 0,
  "metadata": {
    "colab": {
      "name": "2.2.2_DataFrame_repetition.ipynb",
      "provenance": [],
      "authorship_tag": "ABX9TyNllXPojVDBTGnOjzGa9ZRw",
      "include_colab_link": true
    },
    "kernelspec": {
      "name": "python3",
      "display_name": "Python 3"
    },
    "language_info": {
      "name": "python"
    }
  },
  "cells": [
    {
      "cell_type": "markdown",
      "metadata": {
        "id": "view-in-github",
        "colab_type": "text"
      },
      "source": [
        "<a href=\"https://colab.research.google.com/github/khusanovich/Data_science_and_AI/blob/main/2_2_2_DataFrame_repetition.ipynb\" target=\"_parent\"><img src=\"https://colab.research.google.com/assets/colab-badge.svg\" alt=\"Open In Colab\"/></a>"
      ]
    },
    {
      "cell_type": "code",
      "execution_count": 1,
      "metadata": {
        "id": "jkpGG0QO_oMU"
      },
      "outputs": [],
      "source": [
        "import pandas as pd\n",
        "import numpy as np"
      ]
    },
    {
      "cell_type": "code",
      "source": [
        "from pandas import DataFrame as df"
      ],
      "metadata": {
        "id": "r3Org3q7_ua_"
      },
      "execution_count": 3,
      "outputs": []
    },
    {
      "cell_type": "code",
      "source": [
        "data = {'Yil':[2021, 2020, 2019, 2018, 2017, 2016, 2015, 2010],\n",
        "       'Aholi soni':[33.9, 33.5, 32.9, 32.5, 31.9, 31.4, 30.9, 28.5],\n",
        "       \"Temp\":[1.54, 1.48, 1.56, 1.62, 1.65, 1.66, 1.64, 1.53]}\n",
        "doo = df(data)"
      ],
      "metadata": {
        "id": "LmKj81vNALnz"
      },
      "execution_count": 6,
      "outputs": []
    },
    {
      "cell_type": "code",
      "source": [
        "doo"
      ],
      "metadata": {
        "colab": {
          "base_uri": "https://localhost:8080/",
          "height": 300
        },
        "id": "iKB-JMeFArlM",
        "outputId": "be0f51ed-579c-4159-cc22-199f809324ae"
      },
      "execution_count": 7,
      "outputs": [
        {
          "output_type": "execute_result",
          "data": {
            "text/html": [
              "<div>\n",
              "<style scoped>\n",
              "    .dataframe tbody tr th:only-of-type {\n",
              "        vertical-align: middle;\n",
              "    }\n",
              "\n",
              "    .dataframe tbody tr th {\n",
              "        vertical-align: top;\n",
              "    }\n",
              "\n",
              "    .dataframe thead th {\n",
              "        text-align: right;\n",
              "    }\n",
              "</style>\n",
              "<table border=\"1\" class=\"dataframe\">\n",
              "  <thead>\n",
              "    <tr style=\"text-align: right;\">\n",
              "      <th></th>\n",
              "      <th>Yil</th>\n",
              "      <th>Aholi soni</th>\n",
              "      <th>Temp</th>\n",
              "    </tr>\n",
              "  </thead>\n",
              "  <tbody>\n",
              "    <tr>\n",
              "      <th>0</th>\n",
              "      <td>2021</td>\n",
              "      <td>33.9</td>\n",
              "      <td>1.54</td>\n",
              "    </tr>\n",
              "    <tr>\n",
              "      <th>1</th>\n",
              "      <td>2020</td>\n",
              "      <td>33.5</td>\n",
              "      <td>1.48</td>\n",
              "    </tr>\n",
              "    <tr>\n",
              "      <th>2</th>\n",
              "      <td>2019</td>\n",
              "      <td>32.9</td>\n",
              "      <td>1.56</td>\n",
              "    </tr>\n",
              "    <tr>\n",
              "      <th>3</th>\n",
              "      <td>2018</td>\n",
              "      <td>32.5</td>\n",
              "      <td>1.62</td>\n",
              "    </tr>\n",
              "    <tr>\n",
              "      <th>4</th>\n",
              "      <td>2017</td>\n",
              "      <td>31.9</td>\n",
              "      <td>1.65</td>\n",
              "    </tr>\n",
              "    <tr>\n",
              "      <th>5</th>\n",
              "      <td>2016</td>\n",
              "      <td>31.4</td>\n",
              "      <td>1.66</td>\n",
              "    </tr>\n",
              "    <tr>\n",
              "      <th>6</th>\n",
              "      <td>2015</td>\n",
              "      <td>30.9</td>\n",
              "      <td>1.64</td>\n",
              "    </tr>\n",
              "    <tr>\n",
              "      <th>7</th>\n",
              "      <td>2010</td>\n",
              "      <td>28.5</td>\n",
              "      <td>1.53</td>\n",
              "    </tr>\n",
              "  </tbody>\n",
              "</table>\n",
              "</div>"
            ],
            "text/plain": [
              "    Yil  Aholi soni  Temp\n",
              "0  2021        33.9  1.54\n",
              "1  2020        33.5  1.48\n",
              "2  2019        32.9  1.56\n",
              "3  2018        32.5  1.62\n",
              "4  2017        31.9  1.65\n",
              "5  2016        31.4  1.66\n",
              "6  2015        30.9  1.64\n",
              "7  2010        28.5  1.53"
            ]
          },
          "metadata": {},
          "execution_count": 7
        }
      ]
    },
    {
      "cell_type": "code",
      "source": [
        "doo = df(data, columns=['Yil', 'Tempo', 'Aholi soni', 'Temp'])"
      ],
      "metadata": {
        "id": "yz4ootPXA1Ix"
      },
      "execution_count": 10,
      "outputs": []
    },
    {
      "cell_type": "code",
      "source": [
        "doo"
      ],
      "metadata": {
        "colab": {
          "base_uri": "https://localhost:8080/",
          "height": 300
        },
        "id": "emf4gae9BS8f",
        "outputId": "ce9a73d3-165b-442f-f346-831ee423119a"
      },
      "execution_count": 11,
      "outputs": [
        {
          "output_type": "execute_result",
          "data": {
            "text/html": [
              "<div>\n",
              "<style scoped>\n",
              "    .dataframe tbody tr th:only-of-type {\n",
              "        vertical-align: middle;\n",
              "    }\n",
              "\n",
              "    .dataframe tbody tr th {\n",
              "        vertical-align: top;\n",
              "    }\n",
              "\n",
              "    .dataframe thead th {\n",
              "        text-align: right;\n",
              "    }\n",
              "</style>\n",
              "<table border=\"1\" class=\"dataframe\">\n",
              "  <thead>\n",
              "    <tr style=\"text-align: right;\">\n",
              "      <th></th>\n",
              "      <th>Yil</th>\n",
              "      <th>Tempo</th>\n",
              "      <th>Aholi soni</th>\n",
              "      <th>Temp</th>\n",
              "    </tr>\n",
              "  </thead>\n",
              "  <tbody>\n",
              "    <tr>\n",
              "      <th>0</th>\n",
              "      <td>2021</td>\n",
              "      <td>NaN</td>\n",
              "      <td>33.9</td>\n",
              "      <td>1.54</td>\n",
              "    </tr>\n",
              "    <tr>\n",
              "      <th>1</th>\n",
              "      <td>2020</td>\n",
              "      <td>NaN</td>\n",
              "      <td>33.5</td>\n",
              "      <td>1.48</td>\n",
              "    </tr>\n",
              "    <tr>\n",
              "      <th>2</th>\n",
              "      <td>2019</td>\n",
              "      <td>NaN</td>\n",
              "      <td>32.9</td>\n",
              "      <td>1.56</td>\n",
              "    </tr>\n",
              "    <tr>\n",
              "      <th>3</th>\n",
              "      <td>2018</td>\n",
              "      <td>NaN</td>\n",
              "      <td>32.5</td>\n",
              "      <td>1.62</td>\n",
              "    </tr>\n",
              "    <tr>\n",
              "      <th>4</th>\n",
              "      <td>2017</td>\n",
              "      <td>NaN</td>\n",
              "      <td>31.9</td>\n",
              "      <td>1.65</td>\n",
              "    </tr>\n",
              "    <tr>\n",
              "      <th>5</th>\n",
              "      <td>2016</td>\n",
              "      <td>NaN</td>\n",
              "      <td>31.4</td>\n",
              "      <td>1.66</td>\n",
              "    </tr>\n",
              "    <tr>\n",
              "      <th>6</th>\n",
              "      <td>2015</td>\n",
              "      <td>NaN</td>\n",
              "      <td>30.9</td>\n",
              "      <td>1.64</td>\n",
              "    </tr>\n",
              "    <tr>\n",
              "      <th>7</th>\n",
              "      <td>2010</td>\n",
              "      <td>NaN</td>\n",
              "      <td>28.5</td>\n",
              "      <td>1.53</td>\n",
              "    </tr>\n",
              "  </tbody>\n",
              "</table>\n",
              "</div>"
            ],
            "text/plain": [
              "    Yil Tempo  Aholi soni  Temp\n",
              "0  2021   NaN        33.9  1.54\n",
              "1  2020   NaN        33.5  1.48\n",
              "2  2019   NaN        32.9  1.56\n",
              "3  2018   NaN        32.5  1.62\n",
              "4  2017   NaN        31.9  1.65\n",
              "5  2016   NaN        31.4  1.66\n",
              "6  2015   NaN        30.9  1.64\n",
              "7  2010   NaN        28.5  1.53"
            ]
          },
          "metadata": {},
          "execution_count": 11
        }
      ]
    },
    {
      "cell_type": "markdown",
      "source": [
        "Huddi `Series` kabi `DataFrame` indekslariga ham o'zimiz qiymat berishimiz mumkin:"
      ],
      "metadata": {
        "id": "WtJ8qwCjCF8n"
      }
    },
    {
      "cell_type": "code",
      "source": [
        "doo = df(data, columns=['Yil','Temp','Aholi soni','YAIM'], index=[21, 20, 19, 18, 17, 16, 15, 10])"
      ],
      "metadata": {
        "id": "M9lyPHa6BfTt"
      },
      "execution_count": 14,
      "outputs": []
    },
    {
      "cell_type": "code",
      "source": [
        "doo"
      ],
      "metadata": {
        "colab": {
          "base_uri": "https://localhost:8080/",
          "height": 300
        },
        "id": "H8AM9keFCJXy",
        "outputId": "a12a5e8f-9020-4a7d-9210-c9e90bcf0211"
      },
      "execution_count": 15,
      "outputs": [
        {
          "output_type": "execute_result",
          "data": {
            "text/html": [
              "<div>\n",
              "<style scoped>\n",
              "    .dataframe tbody tr th:only-of-type {\n",
              "        vertical-align: middle;\n",
              "    }\n",
              "\n",
              "    .dataframe tbody tr th {\n",
              "        vertical-align: top;\n",
              "    }\n",
              "\n",
              "    .dataframe thead th {\n",
              "        text-align: right;\n",
              "    }\n",
              "</style>\n",
              "<table border=\"1\" class=\"dataframe\">\n",
              "  <thead>\n",
              "    <tr style=\"text-align: right;\">\n",
              "      <th></th>\n",
              "      <th>Yil</th>\n",
              "      <th>Temp</th>\n",
              "      <th>Aholi soni</th>\n",
              "      <th>YAIM</th>\n",
              "    </tr>\n",
              "  </thead>\n",
              "  <tbody>\n",
              "    <tr>\n",
              "      <th>21</th>\n",
              "      <td>2021</td>\n",
              "      <td>1.54</td>\n",
              "      <td>33.9</td>\n",
              "      <td>NaN</td>\n",
              "    </tr>\n",
              "    <tr>\n",
              "      <th>20</th>\n",
              "      <td>2020</td>\n",
              "      <td>1.48</td>\n",
              "      <td>33.5</td>\n",
              "      <td>NaN</td>\n",
              "    </tr>\n",
              "    <tr>\n",
              "      <th>19</th>\n",
              "      <td>2019</td>\n",
              "      <td>1.56</td>\n",
              "      <td>32.9</td>\n",
              "      <td>NaN</td>\n",
              "    </tr>\n",
              "    <tr>\n",
              "      <th>18</th>\n",
              "      <td>2018</td>\n",
              "      <td>1.62</td>\n",
              "      <td>32.5</td>\n",
              "      <td>NaN</td>\n",
              "    </tr>\n",
              "    <tr>\n",
              "      <th>17</th>\n",
              "      <td>2017</td>\n",
              "      <td>1.65</td>\n",
              "      <td>31.9</td>\n",
              "      <td>NaN</td>\n",
              "    </tr>\n",
              "    <tr>\n",
              "      <th>16</th>\n",
              "      <td>2016</td>\n",
              "      <td>1.66</td>\n",
              "      <td>31.4</td>\n",
              "      <td>NaN</td>\n",
              "    </tr>\n",
              "    <tr>\n",
              "      <th>15</th>\n",
              "      <td>2015</td>\n",
              "      <td>1.64</td>\n",
              "      <td>30.9</td>\n",
              "      <td>NaN</td>\n",
              "    </tr>\n",
              "    <tr>\n",
              "      <th>10</th>\n",
              "      <td>2010</td>\n",
              "      <td>1.53</td>\n",
              "      <td>28.5</td>\n",
              "      <td>NaN</td>\n",
              "    </tr>\n",
              "  </tbody>\n",
              "</table>\n",
              "</div>"
            ],
            "text/plain": [
              "     Yil  Temp  Aholi soni YAIM\n",
              "21  2021  1.54        33.9  NaN\n",
              "20  2020  1.48        33.5  NaN\n",
              "19  2019  1.56        32.9  NaN\n",
              "18  2018  1.62        32.5  NaN\n",
              "17  2017  1.65        31.9  NaN\n",
              "16  2016  1.66        31.4  NaN\n",
              "15  2015  1.64        30.9  NaN\n",
              "10  2010  1.53        28.5  NaN"
            ]
          },
          "metadata": {},
          "execution_count": 15
        }
      ]
    },
    {
      "cell_type": "markdown",
      "source": [
        "`DataFrame`ning istalgan ustunini `Series` ko'rinishida ajratib olishimiz mumkin. Buning ikki usuli bor:\n",
        "1. Ustun nomi attribut sifatida"
      ],
      "metadata": {
        "id": "tSsKkgArCXB4"
      }
    },
    {
      "cell_type": "code",
      "source": [
        "# 1-Usul faqatgina ustun nomi bir so'zdan iborat, Python o'zgaruvchi talablariga javob bergan holda ishlaydi. \n",
        "# Ahamiyat bering, ajratib olingan ustunlar indeksi va ustun nomi saqlanib qoladi\n",
        "# \n",
        "doo.Yil"
      ],
      "metadata": {
        "colab": {
          "base_uri": "https://localhost:8080/"
        },
        "id": "SJpieh91CTu-",
        "outputId": "ce5c55d3-3ad9-4c84-d6c1-13a2cd64f4e7"
      },
      "execution_count": 17,
      "outputs": [
        {
          "output_type": "execute_result",
          "data": {
            "text/plain": [
              "21    2021\n",
              "20    2020\n",
              "19    2019\n",
              "18    2018\n",
              "17    2017\n",
              "16    2016\n",
              "15    2015\n",
              "10    2010\n",
              "Name: Yil, dtype: int64"
            ]
          },
          "metadata": {},
          "execution_count": 17
        }
      ]
    },
    {
      "cell_type": "markdown",
      "source": [
        "2. Lug'at kabi ajratish"
      ],
      "metadata": {
        "id": "VfQttB2bDU1z"
      }
    },
    {
      "cell_type": "code",
      "source": [
        "doo['Yil']"
      ],
      "metadata": {
        "colab": {
          "base_uri": "https://localhost:8080/"
        },
        "id": "h5o6QdK0DOxK",
        "outputId": "04c8c802-9317-4b40-9b25-4e121d82d36c"
      },
      "execution_count": 18,
      "outputs": [
        {
          "output_type": "execute_result",
          "data": {
            "text/plain": [
              "21    2021\n",
              "20    2020\n",
              "19    2019\n",
              "18    2018\n",
              "17    2017\n",
              "16    2016\n",
              "15    2015\n",
              "10    2010\n",
              "Name: Yil, dtype: int64"
            ]
          },
          "metadata": {},
          "execution_count": 18
        }
      ]
    },
    {
      "cell_type": "markdown",
      "source": [
        "Yuqoridagi usul bilan biz ustundagi barcha elementlarga qiymat berishimiz mumkin:"
      ],
      "metadata": {
        "id": "D4oL3IjXD9v8"
      }
    },
    {
      "cell_type": "code",
      "source": [
        "doo.YAIM = 2000"
      ],
      "metadata": {
        "id": "VoGb443ADZYQ"
      },
      "execution_count": 20,
      "outputs": []
    },
    {
      "cell_type": "code",
      "source": [
        "doo"
      ],
      "metadata": {
        "colab": {
          "base_uri": "https://localhost:8080/",
          "height": 300
        },
        "id": "1luD-ZBqEEKA",
        "outputId": "4c92e161-dfe5-4892-cee9-06b0d3a1fc76"
      },
      "execution_count": 21,
      "outputs": [
        {
          "output_type": "execute_result",
          "data": {
            "text/html": [
              "<div>\n",
              "<style scoped>\n",
              "    .dataframe tbody tr th:only-of-type {\n",
              "        vertical-align: middle;\n",
              "    }\n",
              "\n",
              "    .dataframe tbody tr th {\n",
              "        vertical-align: top;\n",
              "    }\n",
              "\n",
              "    .dataframe thead th {\n",
              "        text-align: right;\n",
              "    }\n",
              "</style>\n",
              "<table border=\"1\" class=\"dataframe\">\n",
              "  <thead>\n",
              "    <tr style=\"text-align: right;\">\n",
              "      <th></th>\n",
              "      <th>Yil</th>\n",
              "      <th>Temp</th>\n",
              "      <th>Aholi soni</th>\n",
              "      <th>YAIM</th>\n",
              "    </tr>\n",
              "  </thead>\n",
              "  <tbody>\n",
              "    <tr>\n",
              "      <th>21</th>\n",
              "      <td>2021</td>\n",
              "      <td>1.54</td>\n",
              "      <td>33.9</td>\n",
              "      <td>2000</td>\n",
              "    </tr>\n",
              "    <tr>\n",
              "      <th>20</th>\n",
              "      <td>2020</td>\n",
              "      <td>1.48</td>\n",
              "      <td>33.5</td>\n",
              "      <td>2000</td>\n",
              "    </tr>\n",
              "    <tr>\n",
              "      <th>19</th>\n",
              "      <td>2019</td>\n",
              "      <td>1.56</td>\n",
              "      <td>32.9</td>\n",
              "      <td>2000</td>\n",
              "    </tr>\n",
              "    <tr>\n",
              "      <th>18</th>\n",
              "      <td>2018</td>\n",
              "      <td>1.62</td>\n",
              "      <td>32.5</td>\n",
              "      <td>2000</td>\n",
              "    </tr>\n",
              "    <tr>\n",
              "      <th>17</th>\n",
              "      <td>2017</td>\n",
              "      <td>1.65</td>\n",
              "      <td>31.9</td>\n",
              "      <td>2000</td>\n",
              "    </tr>\n",
              "    <tr>\n",
              "      <th>16</th>\n",
              "      <td>2016</td>\n",
              "      <td>1.66</td>\n",
              "      <td>31.4</td>\n",
              "      <td>2000</td>\n",
              "    </tr>\n",
              "    <tr>\n",
              "      <th>15</th>\n",
              "      <td>2015</td>\n",
              "      <td>1.64</td>\n",
              "      <td>30.9</td>\n",
              "      <td>2000</td>\n",
              "    </tr>\n",
              "    <tr>\n",
              "      <th>10</th>\n",
              "      <td>2010</td>\n",
              "      <td>1.53</td>\n",
              "      <td>28.5</td>\n",
              "      <td>2000</td>\n",
              "    </tr>\n",
              "  </tbody>\n",
              "</table>\n",
              "</div>"
            ],
            "text/plain": [
              "     Yil  Temp  Aholi soni  YAIM\n",
              "21  2021  1.54        33.9  2000\n",
              "20  2020  1.48        33.5  2000\n",
              "19  2019  1.56        32.9  2000\n",
              "18  2018  1.62        32.5  2000\n",
              "17  2017  1.65        31.9  2000\n",
              "16  2016  1.66        31.4  2000\n",
              "15  2015  1.64        30.9  2000\n",
              "10  2010  1.53        28.5  2000"
            ]
          },
          "metadata": {},
          "execution_count": 21
        }
      ]
    },
    {
      "cell_type": "markdown",
      "source": [
        "`Series` yordamida biror ustunning ma'lum bir qatorlariga o'zgartirish kiritish mumkin. Bunda qatorlarning indeksi berilishi shart."
      ],
      "metadata": {
        "id": "qsF05TxEFF2H"
      }
    },
    {
      "cell_type": "code",
      "source": [
        "voo = pd.Series([0, 0, -2], index=[10,15,16])\n",
        "voo"
      ],
      "metadata": {
        "colab": {
          "base_uri": "https://localhost:8080/"
        },
        "id": "-CZXm6PIEKn0",
        "outputId": "bcd5ee7f-3d55-45af-a971-80bc5835bdcd"
      },
      "execution_count": 22,
      "outputs": [
        {
          "output_type": "execute_result",
          "data": {
            "text/plain": [
              "10    0\n",
              "15    0\n",
              "16   -2\n",
              "dtype: int64"
            ]
          },
          "metadata": {},
          "execution_count": 22
        }
      ]
    },
    {
      "cell_type": "code",
      "source": [
        "doo.YAIM = voo"
      ],
      "metadata": {
        "id": "N4AOC8o4EzdK"
      },
      "execution_count": 23,
      "outputs": []
    },
    {
      "cell_type": "code",
      "source": [
        "doo"
      ],
      "metadata": {
        "colab": {
          "base_uri": "https://localhost:8080/",
          "height": 300
        },
        "id": "yYKDYMsTE7YC",
        "outputId": "16a7c9c3-d563-4a8c-e169-493688d85597"
      },
      "execution_count": 24,
      "outputs": [
        {
          "output_type": "execute_result",
          "data": {
            "text/html": [
              "<div>\n",
              "<style scoped>\n",
              "    .dataframe tbody tr th:only-of-type {\n",
              "        vertical-align: middle;\n",
              "    }\n",
              "\n",
              "    .dataframe tbody tr th {\n",
              "        vertical-align: top;\n",
              "    }\n",
              "\n",
              "    .dataframe thead th {\n",
              "        text-align: right;\n",
              "    }\n",
              "</style>\n",
              "<table border=\"1\" class=\"dataframe\">\n",
              "  <thead>\n",
              "    <tr style=\"text-align: right;\">\n",
              "      <th></th>\n",
              "      <th>Yil</th>\n",
              "      <th>Temp</th>\n",
              "      <th>Aholi soni</th>\n",
              "      <th>YAIM</th>\n",
              "    </tr>\n",
              "  </thead>\n",
              "  <tbody>\n",
              "    <tr>\n",
              "      <th>21</th>\n",
              "      <td>2021</td>\n",
              "      <td>1.54</td>\n",
              "      <td>33.9</td>\n",
              "      <td>NaN</td>\n",
              "    </tr>\n",
              "    <tr>\n",
              "      <th>20</th>\n",
              "      <td>2020</td>\n",
              "      <td>1.48</td>\n",
              "      <td>33.5</td>\n",
              "      <td>NaN</td>\n",
              "    </tr>\n",
              "    <tr>\n",
              "      <th>19</th>\n",
              "      <td>2019</td>\n",
              "      <td>1.56</td>\n",
              "      <td>32.9</td>\n",
              "      <td>NaN</td>\n",
              "    </tr>\n",
              "    <tr>\n",
              "      <th>18</th>\n",
              "      <td>2018</td>\n",
              "      <td>1.62</td>\n",
              "      <td>32.5</td>\n",
              "      <td>NaN</td>\n",
              "    </tr>\n",
              "    <tr>\n",
              "      <th>17</th>\n",
              "      <td>2017</td>\n",
              "      <td>1.65</td>\n",
              "      <td>31.9</td>\n",
              "      <td>NaN</td>\n",
              "    </tr>\n",
              "    <tr>\n",
              "      <th>16</th>\n",
              "      <td>2016</td>\n",
              "      <td>1.66</td>\n",
              "      <td>31.4</td>\n",
              "      <td>-2.0</td>\n",
              "    </tr>\n",
              "    <tr>\n",
              "      <th>15</th>\n",
              "      <td>2015</td>\n",
              "      <td>1.64</td>\n",
              "      <td>30.9</td>\n",
              "      <td>0.0</td>\n",
              "    </tr>\n",
              "    <tr>\n",
              "      <th>10</th>\n",
              "      <td>2010</td>\n",
              "      <td>1.53</td>\n",
              "      <td>28.5</td>\n",
              "      <td>0.0</td>\n",
              "    </tr>\n",
              "  </tbody>\n",
              "</table>\n",
              "</div>"
            ],
            "text/plain": [
              "     Yil  Temp  Aholi soni  YAIM\n",
              "21  2021  1.54        33.9   NaN\n",
              "20  2020  1.48        33.5   NaN\n",
              "19  2019  1.56        32.9   NaN\n",
              "18  2018  1.62        32.5   NaN\n",
              "17  2017  1.65        31.9   NaN\n",
              "16  2016  1.66        31.4  -2.0\n",
              "15  2015  1.64        30.9   0.0\n",
              "10  2010  1.53        28.5   0.0"
            ]
          },
          "metadata": {},
          "execution_count": 24
        }
      ]
    },
    {
      "cell_type": "markdown",
      "source": [
        "Shuningdek ustun qiymatlarini o'zgartirish uchun shu ustun qatorlari soniga teng ro'yxatdan foydalanishimiz mumkin."
      ],
      "metadata": {
        "id": "WMrcPDaPFO45"
      }
    },
    {
      "cell_type": "code",
      "source": [
        "YAIM = [1700, 1670, 1600, 1590, 1400, 1300, 1350, 1360]"
      ],
      "metadata": {
        "id": "uj3_unFDE8bF"
      },
      "execution_count": 25,
      "outputs": []
    },
    {
      "cell_type": "code",
      "source": [
        "doo.YAIM = YAIM"
      ],
      "metadata": {
        "id": "GhePAMCUFRL5"
      },
      "execution_count": 27,
      "outputs": []
    },
    {
      "cell_type": "code",
      "source": [
        "doo"
      ],
      "metadata": {
        "colab": {
          "base_uri": "https://localhost:8080/",
          "height": 300
        },
        "id": "vljk2AbmFTSl",
        "outputId": "8210690e-58f4-4350-c21d-c16c072e4f35"
      },
      "execution_count": 28,
      "outputs": [
        {
          "output_type": "execute_result",
          "data": {
            "text/html": [
              "<div>\n",
              "<style scoped>\n",
              "    .dataframe tbody tr th:only-of-type {\n",
              "        vertical-align: middle;\n",
              "    }\n",
              "\n",
              "    .dataframe tbody tr th {\n",
              "        vertical-align: top;\n",
              "    }\n",
              "\n",
              "    .dataframe thead th {\n",
              "        text-align: right;\n",
              "    }\n",
              "</style>\n",
              "<table border=\"1\" class=\"dataframe\">\n",
              "  <thead>\n",
              "    <tr style=\"text-align: right;\">\n",
              "      <th></th>\n",
              "      <th>Yil</th>\n",
              "      <th>Temp</th>\n",
              "      <th>Aholi soni</th>\n",
              "      <th>YAIM</th>\n",
              "    </tr>\n",
              "  </thead>\n",
              "  <tbody>\n",
              "    <tr>\n",
              "      <th>21</th>\n",
              "      <td>2021</td>\n",
              "      <td>1.54</td>\n",
              "      <td>33.9</td>\n",
              "      <td>1700</td>\n",
              "    </tr>\n",
              "    <tr>\n",
              "      <th>20</th>\n",
              "      <td>2020</td>\n",
              "      <td>1.48</td>\n",
              "      <td>33.5</td>\n",
              "      <td>1670</td>\n",
              "    </tr>\n",
              "    <tr>\n",
              "      <th>19</th>\n",
              "      <td>2019</td>\n",
              "      <td>1.56</td>\n",
              "      <td>32.9</td>\n",
              "      <td>1600</td>\n",
              "    </tr>\n",
              "    <tr>\n",
              "      <th>18</th>\n",
              "      <td>2018</td>\n",
              "      <td>1.62</td>\n",
              "      <td>32.5</td>\n",
              "      <td>1590</td>\n",
              "    </tr>\n",
              "    <tr>\n",
              "      <th>17</th>\n",
              "      <td>2017</td>\n",
              "      <td>1.65</td>\n",
              "      <td>31.9</td>\n",
              "      <td>1400</td>\n",
              "    </tr>\n",
              "    <tr>\n",
              "      <th>16</th>\n",
              "      <td>2016</td>\n",
              "      <td>1.66</td>\n",
              "      <td>31.4</td>\n",
              "      <td>1300</td>\n",
              "    </tr>\n",
              "    <tr>\n",
              "      <th>15</th>\n",
              "      <td>2015</td>\n",
              "      <td>1.64</td>\n",
              "      <td>30.9</td>\n",
              "      <td>1350</td>\n",
              "    </tr>\n",
              "    <tr>\n",
              "      <th>10</th>\n",
              "      <td>2010</td>\n",
              "      <td>1.53</td>\n",
              "      <td>28.5</td>\n",
              "      <td>1360</td>\n",
              "    </tr>\n",
              "  </tbody>\n",
              "</table>\n",
              "</div>"
            ],
            "text/plain": [
              "     Yil  Temp  Aholi soni  YAIM\n",
              "21  2021  1.54        33.9  1700\n",
              "20  2020  1.48        33.5  1670\n",
              "19  2019  1.56        32.9  1600\n",
              "18  2018  1.62        32.5  1590\n",
              "17  2017  1.65        31.9  1400\n",
              "16  2016  1.66        31.4  1300\n",
              "15  2015  1.64        30.9  1350\n",
              "10  2010  1.53        28.5  1360"
            ]
          },
          "metadata": {},
          "execution_count": 28
        }
      ]
    },
    {
      "cell_type": "markdown",
      "source": [
        "Agar qiymat berishda mavjud bo'lmagan ustun nomi yozilsa, `DataFrame`ga yangi ustun qo'shiladi (bu faqat lug'at ko'rinishda yozishga xos). \n",
        "\n",
        "Quyidagi misolda biz avval yangi `1500+` degan ustun yaratdik keyin esa bu ustun qiymatlarini `df.YAIM>1500` sharti yordamida to'ldridik (ya'ni yalpi ichki mahsluot `1500` dan katta bo'lsa `True` aks holda 'False`."
      ],
      "metadata": {
        "id": "1FzNdSzvFj8M"
      }
    },
    {
      "cell_type": "code",
      "source": [
        "doo['Ijobiy'] = doo.YAIM>1500"
      ],
      "metadata": {
        "id": "OAErJJyOFYwU"
      },
      "execution_count": 29,
      "outputs": []
    },
    {
      "cell_type": "code",
      "source": [
        "doo"
      ],
      "metadata": {
        "colab": {
          "base_uri": "https://localhost:8080/",
          "height": 300
        },
        "id": "4x4q-cLsFxpU",
        "outputId": "32a3b387-9d5a-4a68-ff4e-c9ec43ac8e0f"
      },
      "execution_count": 30,
      "outputs": [
        {
          "output_type": "execute_result",
          "data": {
            "text/html": [
              "<div>\n",
              "<style scoped>\n",
              "    .dataframe tbody tr th:only-of-type {\n",
              "        vertical-align: middle;\n",
              "    }\n",
              "\n",
              "    .dataframe tbody tr th {\n",
              "        vertical-align: top;\n",
              "    }\n",
              "\n",
              "    .dataframe thead th {\n",
              "        text-align: right;\n",
              "    }\n",
              "</style>\n",
              "<table border=\"1\" class=\"dataframe\">\n",
              "  <thead>\n",
              "    <tr style=\"text-align: right;\">\n",
              "      <th></th>\n",
              "      <th>Yil</th>\n",
              "      <th>Temp</th>\n",
              "      <th>Aholi soni</th>\n",
              "      <th>YAIM</th>\n",
              "      <th>Ijobiy</th>\n",
              "    </tr>\n",
              "  </thead>\n",
              "  <tbody>\n",
              "    <tr>\n",
              "      <th>21</th>\n",
              "      <td>2021</td>\n",
              "      <td>1.54</td>\n",
              "      <td>33.9</td>\n",
              "      <td>1700</td>\n",
              "      <td>True</td>\n",
              "    </tr>\n",
              "    <tr>\n",
              "      <th>20</th>\n",
              "      <td>2020</td>\n",
              "      <td>1.48</td>\n",
              "      <td>33.5</td>\n",
              "      <td>1670</td>\n",
              "      <td>True</td>\n",
              "    </tr>\n",
              "    <tr>\n",
              "      <th>19</th>\n",
              "      <td>2019</td>\n",
              "      <td>1.56</td>\n",
              "      <td>32.9</td>\n",
              "      <td>1600</td>\n",
              "      <td>True</td>\n",
              "    </tr>\n",
              "    <tr>\n",
              "      <th>18</th>\n",
              "      <td>2018</td>\n",
              "      <td>1.62</td>\n",
              "      <td>32.5</td>\n",
              "      <td>1590</td>\n",
              "      <td>True</td>\n",
              "    </tr>\n",
              "    <tr>\n",
              "      <th>17</th>\n",
              "      <td>2017</td>\n",
              "      <td>1.65</td>\n",
              "      <td>31.9</td>\n",
              "      <td>1400</td>\n",
              "      <td>False</td>\n",
              "    </tr>\n",
              "    <tr>\n",
              "      <th>16</th>\n",
              "      <td>2016</td>\n",
              "      <td>1.66</td>\n",
              "      <td>31.4</td>\n",
              "      <td>1300</td>\n",
              "      <td>False</td>\n",
              "    </tr>\n",
              "    <tr>\n",
              "      <th>15</th>\n",
              "      <td>2015</td>\n",
              "      <td>1.64</td>\n",
              "      <td>30.9</td>\n",
              "      <td>1350</td>\n",
              "      <td>False</td>\n",
              "    </tr>\n",
              "    <tr>\n",
              "      <th>10</th>\n",
              "      <td>2010</td>\n",
              "      <td>1.53</td>\n",
              "      <td>28.5</td>\n",
              "      <td>1360</td>\n",
              "      <td>False</td>\n",
              "    </tr>\n",
              "  </tbody>\n",
              "</table>\n",
              "</div>"
            ],
            "text/plain": [
              "     Yil  Temp  Aholi soni  YAIM  Ijobiy\n",
              "21  2021  1.54        33.9  1700    True\n",
              "20  2020  1.48        33.5  1670    True\n",
              "19  2019  1.56        32.9  1600    True\n",
              "18  2018  1.62        32.5  1590    True\n",
              "17  2017  1.65        31.9  1400   False\n",
              "16  2016  1.66        31.4  1300   False\n",
              "15  2015  1.64        30.9  1350   False\n",
              "10  2010  1.53        28.5  1360   False"
            ]
          },
          "metadata": {},
          "execution_count": 30
        }
      ]
    },
    {
      "cell_type": "code",
      "source": [
        "del doo['Ijobiy']"
      ],
      "metadata": {
        "id": "aiZGEJ0NFyug"
      },
      "execution_count": 31,
      "outputs": []
    },
    {
      "cell_type": "code",
      "source": [
        "doo"
      ],
      "metadata": {
        "colab": {
          "base_uri": "https://localhost:8080/",
          "height": 300
        },
        "id": "SVmefD65F78K",
        "outputId": "5e14c8de-8425-4491-bd48-fa7971cdb63f"
      },
      "execution_count": 32,
      "outputs": [
        {
          "output_type": "execute_result",
          "data": {
            "text/html": [
              "<div>\n",
              "<style scoped>\n",
              "    .dataframe tbody tr th:only-of-type {\n",
              "        vertical-align: middle;\n",
              "    }\n",
              "\n",
              "    .dataframe tbody tr th {\n",
              "        vertical-align: top;\n",
              "    }\n",
              "\n",
              "    .dataframe thead th {\n",
              "        text-align: right;\n",
              "    }\n",
              "</style>\n",
              "<table border=\"1\" class=\"dataframe\">\n",
              "  <thead>\n",
              "    <tr style=\"text-align: right;\">\n",
              "      <th></th>\n",
              "      <th>Yil</th>\n",
              "      <th>Temp</th>\n",
              "      <th>Aholi soni</th>\n",
              "      <th>YAIM</th>\n",
              "    </tr>\n",
              "  </thead>\n",
              "  <tbody>\n",
              "    <tr>\n",
              "      <th>21</th>\n",
              "      <td>2021</td>\n",
              "      <td>1.54</td>\n",
              "      <td>33.9</td>\n",
              "      <td>1700</td>\n",
              "    </tr>\n",
              "    <tr>\n",
              "      <th>20</th>\n",
              "      <td>2020</td>\n",
              "      <td>1.48</td>\n",
              "      <td>33.5</td>\n",
              "      <td>1670</td>\n",
              "    </tr>\n",
              "    <tr>\n",
              "      <th>19</th>\n",
              "      <td>2019</td>\n",
              "      <td>1.56</td>\n",
              "      <td>32.9</td>\n",
              "      <td>1600</td>\n",
              "    </tr>\n",
              "    <tr>\n",
              "      <th>18</th>\n",
              "      <td>2018</td>\n",
              "      <td>1.62</td>\n",
              "      <td>32.5</td>\n",
              "      <td>1590</td>\n",
              "    </tr>\n",
              "    <tr>\n",
              "      <th>17</th>\n",
              "      <td>2017</td>\n",
              "      <td>1.65</td>\n",
              "      <td>31.9</td>\n",
              "      <td>1400</td>\n",
              "    </tr>\n",
              "    <tr>\n",
              "      <th>16</th>\n",
              "      <td>2016</td>\n",
              "      <td>1.66</td>\n",
              "      <td>31.4</td>\n",
              "      <td>1300</td>\n",
              "    </tr>\n",
              "    <tr>\n",
              "      <th>15</th>\n",
              "      <td>2015</td>\n",
              "      <td>1.64</td>\n",
              "      <td>30.9</td>\n",
              "      <td>1350</td>\n",
              "    </tr>\n",
              "    <tr>\n",
              "      <th>10</th>\n",
              "      <td>2010</td>\n",
              "      <td>1.53</td>\n",
              "      <td>28.5</td>\n",
              "      <td>1360</td>\n",
              "    </tr>\n",
              "  </tbody>\n",
              "</table>\n",
              "</div>"
            ],
            "text/plain": [
              "     Yil  Temp  Aholi soni  YAIM\n",
              "21  2021  1.54        33.9  1700\n",
              "20  2020  1.48        33.5  1670\n",
              "19  2019  1.56        32.9  1600\n",
              "18  2018  1.62        32.5  1590\n",
              "17  2017  1.65        31.9  1400\n",
              "16  2016  1.66        31.4  1300\n",
              "15  2015  1.64        30.9  1350\n",
              "10  2010  1.53        28.5  1360"
            ]
          },
          "metadata": {},
          "execution_count": 32
        }
      ]
    },
    {
      "cell_type": "code",
      "source": [
        "data = {\n",
        "    'Uzbekistan':{2021:33.9, 2020:33.5, 2019:32.9, 2018:32.5, 2017:31.9},\n",
        "    'Kazakhstan':{2021:18.9, 2020:18.7, 2019:18.5, 2018:18.3, 2017:18.1, 2016:17.8},\n",
        "    'England':{2021:33.9, 2020:33.5, 2019:32.9, 2018:32.5, 2017:31.9},\n",
        "    'Germany':{2021:18.9, 2020:18.7, 2019:18.5, 2018:18.3, 2017:18.1, 2016:17.8}\n",
        "}"
      ],
      "metadata": {
        "id": "MMjrdNqJF8qZ"
      },
      "execution_count": 34,
      "outputs": []
    },
    {
      "cell_type": "code",
      "source": [
        "doo1 = df(data)"
      ],
      "metadata": {
        "id": "k3DqE4tSGLEs"
      },
      "execution_count": 35,
      "outputs": []
    },
    {
      "cell_type": "code",
      "source": [
        "doo1"
      ],
      "metadata": {
        "colab": {
          "base_uri": "https://localhost:8080/",
          "height": 238
        },
        "id": "ydahCtyKGWBm",
        "outputId": "b661aea4-b1a8-40d8-8117-3aa31444ccbe"
      },
      "execution_count": 36,
      "outputs": [
        {
          "output_type": "execute_result",
          "data": {
            "text/html": [
              "<div>\n",
              "<style scoped>\n",
              "    .dataframe tbody tr th:only-of-type {\n",
              "        vertical-align: middle;\n",
              "    }\n",
              "\n",
              "    .dataframe tbody tr th {\n",
              "        vertical-align: top;\n",
              "    }\n",
              "\n",
              "    .dataframe thead th {\n",
              "        text-align: right;\n",
              "    }\n",
              "</style>\n",
              "<table border=\"1\" class=\"dataframe\">\n",
              "  <thead>\n",
              "    <tr style=\"text-align: right;\">\n",
              "      <th></th>\n",
              "      <th>Uzbekistan</th>\n",
              "      <th>Kazakhstan</th>\n",
              "      <th>England</th>\n",
              "      <th>Germany</th>\n",
              "    </tr>\n",
              "  </thead>\n",
              "  <tbody>\n",
              "    <tr>\n",
              "      <th>2021</th>\n",
              "      <td>33.9</td>\n",
              "      <td>18.9</td>\n",
              "      <td>33.9</td>\n",
              "      <td>18.9</td>\n",
              "    </tr>\n",
              "    <tr>\n",
              "      <th>2020</th>\n",
              "      <td>33.5</td>\n",
              "      <td>18.7</td>\n",
              "      <td>33.5</td>\n",
              "      <td>18.7</td>\n",
              "    </tr>\n",
              "    <tr>\n",
              "      <th>2019</th>\n",
              "      <td>32.9</td>\n",
              "      <td>18.5</td>\n",
              "      <td>32.9</td>\n",
              "      <td>18.5</td>\n",
              "    </tr>\n",
              "    <tr>\n",
              "      <th>2018</th>\n",
              "      <td>32.5</td>\n",
              "      <td>18.3</td>\n",
              "      <td>32.5</td>\n",
              "      <td>18.3</td>\n",
              "    </tr>\n",
              "    <tr>\n",
              "      <th>2017</th>\n",
              "      <td>31.9</td>\n",
              "      <td>18.1</td>\n",
              "      <td>31.9</td>\n",
              "      <td>18.1</td>\n",
              "    </tr>\n",
              "    <tr>\n",
              "      <th>2016</th>\n",
              "      <td>NaN</td>\n",
              "      <td>17.8</td>\n",
              "      <td>NaN</td>\n",
              "      <td>17.8</td>\n",
              "    </tr>\n",
              "  </tbody>\n",
              "</table>\n",
              "</div>"
            ],
            "text/plain": [
              "      Uzbekistan  Kazakhstan  England  Germany\n",
              "2021        33.9        18.9     33.9     18.9\n",
              "2020        33.5        18.7     33.5     18.7\n",
              "2019        32.9        18.5     32.9     18.5\n",
              "2018        32.5        18.3     32.5     18.3\n",
              "2017        31.9        18.1     31.9     18.1\n",
              "2016         NaN        17.8      NaN     17.8"
            ]
          },
          "metadata": {},
          "execution_count": 36
        }
      ]
    },
    {
      "cell_type": "code",
      "source": [
        "doo1.index.name = 'Year'"
      ],
      "metadata": {
        "id": "8kBExlsKGXLN"
      },
      "execution_count": 38,
      "outputs": []
    },
    {
      "cell_type": "code",
      "source": [
        "doo1"
      ],
      "metadata": {
        "colab": {
          "base_uri": "https://localhost:8080/",
          "height": 269
        },
        "id": "3hOGpujNGlLz",
        "outputId": "3c75bf36-c70c-44fd-bd67-16d7acccc81f"
      },
      "execution_count": 39,
      "outputs": [
        {
          "output_type": "execute_result",
          "data": {
            "text/html": [
              "<div>\n",
              "<style scoped>\n",
              "    .dataframe tbody tr th:only-of-type {\n",
              "        vertical-align: middle;\n",
              "    }\n",
              "\n",
              "    .dataframe tbody tr th {\n",
              "        vertical-align: top;\n",
              "    }\n",
              "\n",
              "    .dataframe thead th {\n",
              "        text-align: right;\n",
              "    }\n",
              "</style>\n",
              "<table border=\"1\" class=\"dataframe\">\n",
              "  <thead>\n",
              "    <tr style=\"text-align: right;\">\n",
              "      <th></th>\n",
              "      <th>Uzbekistan</th>\n",
              "      <th>Kazakhstan</th>\n",
              "      <th>England</th>\n",
              "      <th>Germany</th>\n",
              "    </tr>\n",
              "    <tr>\n",
              "      <th>Year</th>\n",
              "      <th></th>\n",
              "      <th></th>\n",
              "      <th></th>\n",
              "      <th></th>\n",
              "    </tr>\n",
              "  </thead>\n",
              "  <tbody>\n",
              "    <tr>\n",
              "      <th>2021</th>\n",
              "      <td>33.9</td>\n",
              "      <td>18.9</td>\n",
              "      <td>33.9</td>\n",
              "      <td>18.9</td>\n",
              "    </tr>\n",
              "    <tr>\n",
              "      <th>2020</th>\n",
              "      <td>33.5</td>\n",
              "      <td>18.7</td>\n",
              "      <td>33.5</td>\n",
              "      <td>18.7</td>\n",
              "    </tr>\n",
              "    <tr>\n",
              "      <th>2019</th>\n",
              "      <td>32.9</td>\n",
              "      <td>18.5</td>\n",
              "      <td>32.9</td>\n",
              "      <td>18.5</td>\n",
              "    </tr>\n",
              "    <tr>\n",
              "      <th>2018</th>\n",
              "      <td>32.5</td>\n",
              "      <td>18.3</td>\n",
              "      <td>32.5</td>\n",
              "      <td>18.3</td>\n",
              "    </tr>\n",
              "    <tr>\n",
              "      <th>2017</th>\n",
              "      <td>31.9</td>\n",
              "      <td>18.1</td>\n",
              "      <td>31.9</td>\n",
              "      <td>18.1</td>\n",
              "    </tr>\n",
              "    <tr>\n",
              "      <th>2016</th>\n",
              "      <td>NaN</td>\n",
              "      <td>17.8</td>\n",
              "      <td>NaN</td>\n",
              "      <td>17.8</td>\n",
              "    </tr>\n",
              "  </tbody>\n",
              "</table>\n",
              "</div>"
            ],
            "text/plain": [
              "      Uzbekistan  Kazakhstan  England  Germany\n",
              "Year                                          \n",
              "2021        33.9        18.9     33.9     18.9\n",
              "2020        33.5        18.7     33.5     18.7\n",
              "2019        32.9        18.5     32.9     18.5\n",
              "2018        32.5        18.3     32.5     18.3\n",
              "2017        31.9        18.1     31.9     18.1\n",
              "2016         NaN        17.8      NaN     17.8"
            ]
          },
          "metadata": {},
          "execution_count": 39
        }
      ]
    },
    {
      "cell_type": "code",
      "source": [
        "doo1 = df(data, index=[2021, 2020, 2019])"
      ],
      "metadata": {
        "id": "cNJoHDJ_GqXB"
      },
      "execution_count": 40,
      "outputs": []
    },
    {
      "cell_type": "code",
      "source": [
        "doo1"
      ],
      "metadata": {
        "colab": {
          "base_uri": "https://localhost:8080/",
          "height": 143
        },
        "id": "uG5rSgiJG5d5",
        "outputId": "7b91f64f-141f-4335-b262-f12029341ed7"
      },
      "execution_count": 41,
      "outputs": [
        {
          "output_type": "execute_result",
          "data": {
            "text/html": [
              "<div>\n",
              "<style scoped>\n",
              "    .dataframe tbody tr th:only-of-type {\n",
              "        vertical-align: middle;\n",
              "    }\n",
              "\n",
              "    .dataframe tbody tr th {\n",
              "        vertical-align: top;\n",
              "    }\n",
              "\n",
              "    .dataframe thead th {\n",
              "        text-align: right;\n",
              "    }\n",
              "</style>\n",
              "<table border=\"1\" class=\"dataframe\">\n",
              "  <thead>\n",
              "    <tr style=\"text-align: right;\">\n",
              "      <th></th>\n",
              "      <th>Uzbekistan</th>\n",
              "      <th>Kazakhstan</th>\n",
              "      <th>England</th>\n",
              "      <th>Germany</th>\n",
              "    </tr>\n",
              "  </thead>\n",
              "  <tbody>\n",
              "    <tr>\n",
              "      <th>2021</th>\n",
              "      <td>33.9</td>\n",
              "      <td>18.9</td>\n",
              "      <td>33.9</td>\n",
              "      <td>18.9</td>\n",
              "    </tr>\n",
              "    <tr>\n",
              "      <th>2020</th>\n",
              "      <td>33.5</td>\n",
              "      <td>18.7</td>\n",
              "      <td>33.5</td>\n",
              "      <td>18.7</td>\n",
              "    </tr>\n",
              "    <tr>\n",
              "      <th>2019</th>\n",
              "      <td>32.9</td>\n",
              "      <td>18.5</td>\n",
              "      <td>32.9</td>\n",
              "      <td>18.5</td>\n",
              "    </tr>\n",
              "  </tbody>\n",
              "</table>\n",
              "</div>"
            ],
            "text/plain": [
              "      Uzbekistan  Kazakhstan  England  Germany\n",
              "2021        33.9        18.9     33.9     18.9\n",
              "2020        33.5        18.7     33.5     18.7\n",
              "2019        32.9        18.5     32.9     18.5"
            ]
          },
          "metadata": {},
          "execution_count": 41
        }
      ]
    },
    {
      "cell_type": "markdown",
      "source": [
        "Indekslar va Ustunlar o'rnini almashtirish uchun `.T` (transpose) metodidan foydalanish mumkin."
      ],
      "metadata": {
        "id": "7LvoSQnmG-58"
      }
    },
    {
      "cell_type": "code",
      "source": [
        "doo1.T"
      ],
      "metadata": {
        "colab": {
          "base_uri": "https://localhost:8080/",
          "height": 174
        },
        "id": "MRODhd76G6CV",
        "outputId": "5d5cb03b-b614-4f5f-e17c-34c34183e2c2"
      },
      "execution_count": 42,
      "outputs": [
        {
          "output_type": "execute_result",
          "data": {
            "text/html": [
              "<div>\n",
              "<style scoped>\n",
              "    .dataframe tbody tr th:only-of-type {\n",
              "        vertical-align: middle;\n",
              "    }\n",
              "\n",
              "    .dataframe tbody tr th {\n",
              "        vertical-align: top;\n",
              "    }\n",
              "\n",
              "    .dataframe thead th {\n",
              "        text-align: right;\n",
              "    }\n",
              "</style>\n",
              "<table border=\"1\" class=\"dataframe\">\n",
              "  <thead>\n",
              "    <tr style=\"text-align: right;\">\n",
              "      <th></th>\n",
              "      <th>2021</th>\n",
              "      <th>2020</th>\n",
              "      <th>2019</th>\n",
              "    </tr>\n",
              "  </thead>\n",
              "  <tbody>\n",
              "    <tr>\n",
              "      <th>Uzbekistan</th>\n",
              "      <td>33.9</td>\n",
              "      <td>33.5</td>\n",
              "      <td>32.9</td>\n",
              "    </tr>\n",
              "    <tr>\n",
              "      <th>Kazakhstan</th>\n",
              "      <td>18.9</td>\n",
              "      <td>18.7</td>\n",
              "      <td>18.5</td>\n",
              "    </tr>\n",
              "    <tr>\n",
              "      <th>England</th>\n",
              "      <td>33.9</td>\n",
              "      <td>33.5</td>\n",
              "      <td>32.9</td>\n",
              "    </tr>\n",
              "    <tr>\n",
              "      <th>Germany</th>\n",
              "      <td>18.9</td>\n",
              "      <td>18.7</td>\n",
              "      <td>18.5</td>\n",
              "    </tr>\n",
              "  </tbody>\n",
              "</table>\n",
              "</div>"
            ],
            "text/plain": [
              "            2021  2020  2019\n",
              "Uzbekistan  33.9  33.5  32.9\n",
              "Kazakhstan  18.9  18.7  18.5\n",
              "England     33.9  33.5  32.9\n",
              "Germany     18.9  18.7  18.5"
            ]
          },
          "metadata": {},
          "execution_count": 42
        }
      ]
    },
    {
      "cell_type": "markdown",
      "source": [
        "`.values` parametri yordamida `DataFrame` ichidagi qiymatlarni 2-o'lchamli massiv ko'rinishida olishimiz mumkin."
      ],
      "metadata": {
        "id": "lR_k2-fgHHae"
      }
    },
    {
      "cell_type": "code",
      "source": [
        "doo1.values"
      ],
      "metadata": {
        "colab": {
          "base_uri": "https://localhost:8080/"
        },
        "id": "ltqq-VXtHBdo",
        "outputId": "cbf25b14-284c-4332-d719-522b614e6c38"
      },
      "execution_count": 43,
      "outputs": [
        {
          "output_type": "execute_result",
          "data": {
            "text/plain": [
              "array([[33.9, 18.9, 33.9, 18.9],\n",
              "       [33.5, 18.7, 33.5, 18.7],\n",
              "       [32.9, 18.5, 32.9, 18.5]])"
            ]
          },
          "metadata": {},
          "execution_count": 43
        }
      ]
    },
    {
      "cell_type": "markdown",
      "source": [
        "## `Index` obyekti\n",
        "\n",
        "`Series` va `DataFrame` indeklasri ham maxsus Index obyekti hisoblanadi."
      ],
      "metadata": {
        "id": "TgoYQpcUHRoS"
      }
    },
    {
      "cell_type": "code",
      "source": [
        "doo"
      ],
      "metadata": {
        "colab": {
          "base_uri": "https://localhost:8080/",
          "height": 300
        },
        "id": "lHddfHTkHQhN",
        "outputId": "4081ee5a-6085-498d-9274-560a4807ccdb"
      },
      "execution_count": 45,
      "outputs": [
        {
          "output_type": "execute_result",
          "data": {
            "text/html": [
              "<div>\n",
              "<style scoped>\n",
              "    .dataframe tbody tr th:only-of-type {\n",
              "        vertical-align: middle;\n",
              "    }\n",
              "\n",
              "    .dataframe tbody tr th {\n",
              "        vertical-align: top;\n",
              "    }\n",
              "\n",
              "    .dataframe thead th {\n",
              "        text-align: right;\n",
              "    }\n",
              "</style>\n",
              "<table border=\"1\" class=\"dataframe\">\n",
              "  <thead>\n",
              "    <tr style=\"text-align: right;\">\n",
              "      <th></th>\n",
              "      <th>Yil</th>\n",
              "      <th>Temp</th>\n",
              "      <th>Aholi soni</th>\n",
              "      <th>YAIM</th>\n",
              "    </tr>\n",
              "  </thead>\n",
              "  <tbody>\n",
              "    <tr>\n",
              "      <th>21</th>\n",
              "      <td>2021</td>\n",
              "      <td>1.54</td>\n",
              "      <td>33.9</td>\n",
              "      <td>1700</td>\n",
              "    </tr>\n",
              "    <tr>\n",
              "      <th>20</th>\n",
              "      <td>2020</td>\n",
              "      <td>1.48</td>\n",
              "      <td>33.5</td>\n",
              "      <td>1670</td>\n",
              "    </tr>\n",
              "    <tr>\n",
              "      <th>19</th>\n",
              "      <td>2019</td>\n",
              "      <td>1.56</td>\n",
              "      <td>32.9</td>\n",
              "      <td>1600</td>\n",
              "    </tr>\n",
              "    <tr>\n",
              "      <th>18</th>\n",
              "      <td>2018</td>\n",
              "      <td>1.62</td>\n",
              "      <td>32.5</td>\n",
              "      <td>1590</td>\n",
              "    </tr>\n",
              "    <tr>\n",
              "      <th>17</th>\n",
              "      <td>2017</td>\n",
              "      <td>1.65</td>\n",
              "      <td>31.9</td>\n",
              "      <td>1400</td>\n",
              "    </tr>\n",
              "    <tr>\n",
              "      <th>16</th>\n",
              "      <td>2016</td>\n",
              "      <td>1.66</td>\n",
              "      <td>31.4</td>\n",
              "      <td>1300</td>\n",
              "    </tr>\n",
              "    <tr>\n",
              "      <th>15</th>\n",
              "      <td>2015</td>\n",
              "      <td>1.64</td>\n",
              "      <td>30.9</td>\n",
              "      <td>1350</td>\n",
              "    </tr>\n",
              "    <tr>\n",
              "      <th>10</th>\n",
              "      <td>2010</td>\n",
              "      <td>1.53</td>\n",
              "      <td>28.5</td>\n",
              "      <td>1360</td>\n",
              "    </tr>\n",
              "  </tbody>\n",
              "</table>\n",
              "</div>"
            ],
            "text/plain": [
              "     Yil  Temp  Aholi soni  YAIM\n",
              "21  2021  1.54        33.9  1700\n",
              "20  2020  1.48        33.5  1670\n",
              "19  2019  1.56        32.9  1600\n",
              "18  2018  1.62        32.5  1590\n",
              "17  2017  1.65        31.9  1400\n",
              "16  2016  1.66        31.4  1300\n",
              "15  2015  1.64        30.9  1350\n",
              "10  2010  1.53        28.5  1360"
            ]
          },
          "metadata": {},
          "execution_count": 45
        }
      ]
    },
    {
      "cell_type": "code",
      "source": [
        "indekslar = doo.index"
      ],
      "metadata": {
        "id": "qE2g_MvHHUxo"
      },
      "execution_count": 47,
      "outputs": []
    },
    {
      "cell_type": "code",
      "source": [
        "indekslar"
      ],
      "metadata": {
        "colab": {
          "base_uri": "https://localhost:8080/"
        },
        "id": "eoSvS4xhHcRi",
        "outputId": "594e6e34-97b9-4932-eae5-db9aa5bc5bb5"
      },
      "execution_count": 48,
      "outputs": [
        {
          "output_type": "execute_result",
          "data": {
            "text/plain": [
              "Int64Index([21, 20, 19, 18, 17, 16, 15, 10], dtype='int64')"
            ]
          },
          "metadata": {},
          "execution_count": 48
        }
      ]
    },
    {
      "cell_type": "code",
      "source": [
        "indekslar[3]"
      ],
      "metadata": {
        "colab": {
          "base_uri": "https://localhost:8080/"
        },
        "id": "Ebol3C9mHiRd",
        "outputId": "d7442387-efd5-4377-c884-64fc1ef4a7e6"
      },
      "execution_count": 49,
      "outputs": [
        {
          "output_type": "execute_result",
          "data": {
            "text/plain": [
              "18"
            ]
          },
          "metadata": {},
          "execution_count": 49
        }
      ]
    },
    {
      "cell_type": "code",
      "source": [
        "indekslar[-4]"
      ],
      "metadata": {
        "colab": {
          "base_uri": "https://localhost:8080/"
        },
        "id": "HyOh5jPvIlYP",
        "outputId": "0877f2cf-2920-464e-dd18-821b25fa375f"
      },
      "execution_count": 50,
      "outputs": [
        {
          "output_type": "execute_result",
          "data": {
            "text/plain": [
              "17"
            ]
          },
          "metadata": {},
          "execution_count": 50
        }
      ]
    },
    {
      "cell_type": "code",
      "source": [
        "indekslar[3:6]"
      ],
      "metadata": {
        "colab": {
          "base_uri": "https://localhost:8080/"
        },
        "id": "qKIjJdbWIn-w",
        "outputId": "da53723b-6cab-4ead-f8a6-62d03bb88266"
      },
      "execution_count": 51,
      "outputs": [
        {
          "output_type": "execute_result",
          "data": {
            "text/plain": [
              "Int64Index([18, 17, 16], dtype='int64')"
            ]
          },
          "metadata": {},
          "execution_count": 51
        }
      ]
    },
    {
      "cell_type": "markdown",
      "source": [
        "`Index` obyektining qiymatlarini o'zgartirib bo'lmaydi"
      ],
      "metadata": {
        "id": "c4OdL1b3IvNY"
      }
    },
    {
      "cell_type": "code",
      "source": [
        "indekslar[3] = 304"
      ],
      "metadata": {
        "colab": {
          "base_uri": "https://localhost:8080/",
          "height": 287
        },
        "id": "YthbqxHhIr11",
        "outputId": "f47f898b-f562-4802-c50b-b5de4e0e8c65"
      },
      "execution_count": 52,
      "outputs": [
        {
          "output_type": "error",
          "ename": "TypeError",
          "evalue": "ignored",
          "traceback": [
            "\u001b[0;31m---------------------------------------------------------------------------\u001b[0m",
            "\u001b[0;31mTypeError\u001b[0m                                 Traceback (most recent call last)",
            "\u001b[0;32m<ipython-input-52-0c2a0a7702f9>\u001b[0m in \u001b[0;36m<module>\u001b[0;34m()\u001b[0m\n\u001b[0;32m----> 1\u001b[0;31m \u001b[0mindekslar\u001b[0m\u001b[0;34m[\u001b[0m\u001b[0;36m3\u001b[0m\u001b[0;34m]\u001b[0m \u001b[0;34m=\u001b[0m \u001b[0;36m304\u001b[0m\u001b[0;34m\u001b[0m\u001b[0;34m\u001b[0m\u001b[0m\n\u001b[0m",
            "\u001b[0;32m/usr/local/lib/python3.7/dist-packages/pandas/core/indexes/base.py\u001b[0m in \u001b[0;36m__setitem__\u001b[0;34m(self, key, value)\u001b[0m\n\u001b[1;32m   4082\u001b[0m \u001b[0;34m\u001b[0m\u001b[0m\n\u001b[1;32m   4083\u001b[0m     \u001b[0;32mdef\u001b[0m \u001b[0m__setitem__\u001b[0m\u001b[0;34m(\u001b[0m\u001b[0mself\u001b[0m\u001b[0;34m,\u001b[0m \u001b[0mkey\u001b[0m\u001b[0;34m,\u001b[0m \u001b[0mvalue\u001b[0m\u001b[0;34m)\u001b[0m\u001b[0;34m:\u001b[0m\u001b[0;34m\u001b[0m\u001b[0;34m\u001b[0m\u001b[0m\n\u001b[0;32m-> 4084\u001b[0;31m         \u001b[0;32mraise\u001b[0m \u001b[0mTypeError\u001b[0m\u001b[0;34m(\u001b[0m\u001b[0;34m\"Index does not support mutable operations\"\u001b[0m\u001b[0;34m)\u001b[0m\u001b[0;34m\u001b[0m\u001b[0;34m\u001b[0m\u001b[0m\n\u001b[0m\u001b[1;32m   4085\u001b[0m \u001b[0;34m\u001b[0m\u001b[0m\n\u001b[1;32m   4086\u001b[0m     \u001b[0;32mdef\u001b[0m \u001b[0m__getitem__\u001b[0m\u001b[0;34m(\u001b[0m\u001b[0mself\u001b[0m\u001b[0;34m,\u001b[0m \u001b[0mkey\u001b[0m\u001b[0;34m)\u001b[0m\u001b[0;34m:\u001b[0m\u001b[0;34m\u001b[0m\u001b[0;34m\u001b[0m\u001b[0m\n",
            "\u001b[0;31mTypeError\u001b[0m: Index does not support mutable operations"
          ]
        }
      ]
    },
    {
      "cell_type": "markdown",
      "source": [
        "Buning afzalligi esa bir hil indeskli turli obyketlar (`DataFrame`lar) bilan ishlashni osonlashtiradi.\n",
        "\n",
        "Tasavvur qiling sizda turli yillar uchun turli ma'lumotlar turli jadvallarda (`DataFrame`larda) saqlanadi. Bu jadvallari o'zaro bog'lab turgna qiymat bu yillar. Agar yillardan indeks sifatida foydalansangiz, indesklar o'zgarmas bo'lishi hisobiga jadvallar o'rtasidagi bog'liqlik ham mustahkam bo'ladi."
      ],
      "metadata": {
        "id": "76DmscXgJJ8-"
      }
    },
    {
      "cell_type": "code",
      "source": [
        "data1 = {\n",
        "    'Uzbekistan':{2021:33.9, 2020:33.5, 2019:32.9, 2018:32.5, 2017:31.9},\n",
        "    'Kazakhstan':{2021:18.9, 2020:18.7, 2019:18.5, 2018:18.3, 2017:18.1, 2016:17.8},\n",
        "    'England':{2021:33.9, 2020:33.5, 2019:32.9, 2018:32.5, 2017:31.9},\n",
        "    'Germany':{2021:18.9, 2020:18.7, 2019:18.5, 2018:18.3, 2017:18.1, 2016:17.8}\n",
        "}\n",
        "doo = df(data1)"
      ],
      "metadata": {
        "id": "4lW8Ux5UIy-D"
      },
      "execution_count": 55,
      "outputs": []
    },
    {
      "cell_type": "code",
      "source": [
        "doo"
      ],
      "metadata": {
        "colab": {
          "base_uri": "https://localhost:8080/",
          "height": 238
        },
        "id": "NiklQF4kJdlG",
        "outputId": "badcd2a7-c53f-4fc1-92ba-cb5fb9be361f"
      },
      "execution_count": 56,
      "outputs": [
        {
          "output_type": "execute_result",
          "data": {
            "text/html": [
              "<div>\n",
              "<style scoped>\n",
              "    .dataframe tbody tr th:only-of-type {\n",
              "        vertical-align: middle;\n",
              "    }\n",
              "\n",
              "    .dataframe tbody tr th {\n",
              "        vertical-align: top;\n",
              "    }\n",
              "\n",
              "    .dataframe thead th {\n",
              "        text-align: right;\n",
              "    }\n",
              "</style>\n",
              "<table border=\"1\" class=\"dataframe\">\n",
              "  <thead>\n",
              "    <tr style=\"text-align: right;\">\n",
              "      <th></th>\n",
              "      <th>Uzbekistan</th>\n",
              "      <th>Kazakhstan</th>\n",
              "      <th>England</th>\n",
              "      <th>Germany</th>\n",
              "    </tr>\n",
              "  </thead>\n",
              "  <tbody>\n",
              "    <tr>\n",
              "      <th>2021</th>\n",
              "      <td>33.9</td>\n",
              "      <td>18.9</td>\n",
              "      <td>33.9</td>\n",
              "      <td>18.9</td>\n",
              "    </tr>\n",
              "    <tr>\n",
              "      <th>2020</th>\n",
              "      <td>33.5</td>\n",
              "      <td>18.7</td>\n",
              "      <td>33.5</td>\n",
              "      <td>18.7</td>\n",
              "    </tr>\n",
              "    <tr>\n",
              "      <th>2019</th>\n",
              "      <td>32.9</td>\n",
              "      <td>18.5</td>\n",
              "      <td>32.9</td>\n",
              "      <td>18.5</td>\n",
              "    </tr>\n",
              "    <tr>\n",
              "      <th>2018</th>\n",
              "      <td>32.5</td>\n",
              "      <td>18.3</td>\n",
              "      <td>32.5</td>\n",
              "      <td>18.3</td>\n",
              "    </tr>\n",
              "    <tr>\n",
              "      <th>2017</th>\n",
              "      <td>31.9</td>\n",
              "      <td>18.1</td>\n",
              "      <td>31.9</td>\n",
              "      <td>18.1</td>\n",
              "    </tr>\n",
              "    <tr>\n",
              "      <th>2016</th>\n",
              "      <td>NaN</td>\n",
              "      <td>17.8</td>\n",
              "      <td>NaN</td>\n",
              "      <td>17.8</td>\n",
              "    </tr>\n",
              "  </tbody>\n",
              "</table>\n",
              "</div>"
            ],
            "text/plain": [
              "      Uzbekistan  Kazakhstan  England  Germany\n",
              "2021        33.9        18.9     33.9     18.9\n",
              "2020        33.5        18.7     33.5     18.7\n",
              "2019        32.9        18.5     32.9     18.5\n",
              "2018        32.5        18.3     32.5     18.3\n",
              "2017        31.9        18.1     31.9     18.1\n",
              "2016         NaN        17.8      NaN     17.8"
            ]
          },
          "metadata": {},
          "execution_count": 56
        }
      ]
    },
    {
      "cell_type": "code",
      "source": [
        "doo.columns"
      ],
      "metadata": {
        "colab": {
          "base_uri": "https://localhost:8080/"
        },
        "id": "5ycfeEcjJtIT",
        "outputId": "4edea7c9-656c-488d-d986-667ce820fcd8"
      },
      "execution_count": 57,
      "outputs": [
        {
          "output_type": "execute_result",
          "data": {
            "text/plain": [
              "Index(['Uzbekistan', 'Kazakhstan', 'England', 'Germany'], dtype='object')"
            ]
          },
          "metadata": {},
          "execution_count": 57
        }
      ]
    },
    {
      "cell_type": "code",
      "source": [
        "'Tajikistan' in doo.columns"
      ],
      "metadata": {
        "colab": {
          "base_uri": "https://localhost:8080/"
        },
        "id": "ptK1UeW0JwWJ",
        "outputId": "99e829f4-bec7-40fc-cccb-ca2d27b6d94a"
      },
      "execution_count": 58,
      "outputs": [
        {
          "output_type": "execute_result",
          "data": {
            "text/plain": [
              "False"
            ]
          },
          "metadata": {},
          "execution_count": 58
        }
      ]
    },
    {
      "cell_type": "code",
      "source": [
        "2021 in doo.index"
      ],
      "metadata": {
        "colab": {
          "base_uri": "https://localhost:8080/"
        },
        "id": "Brz_4ZtYJ2tX",
        "outputId": "8c809a75-e5b8-42d6-98c4-fd05b879c2f7"
      },
      "execution_count": 59,
      "outputs": [
        {
          "output_type": "execute_result",
          "data": {
            "text/plain": [
              "True"
            ]
          },
          "metadata": {},
          "execution_count": 59
        }
      ]
    },
    {
      "cell_type": "markdown",
      "source": [
        "Python ro'yxatlaridan farqli ravishda `Index` takrorlanuvchi qiymatlar ega bo'lishi mumkin:"
      ],
      "metadata": {
        "id": "R-s0mrm8J-aA"
      }
    },
    {
      "cell_type": "code",
      "source": [
        "usernames = {\"anvar\":\"anvarbek223\", \"olim\":\"olimtoy\", \"maryam\":\"mary334455\",\"javohir\":\"javohir445\"}\n",
        "emails = {\"anvar\":\"anvar@gmail.com\", \"olim\":\"olim@mail.ru\", \"maryam\":\"mary33@gmail.com\",\"javohir\":\"javohir445@gmail.com\"}\n",
        "\n",
        "data = {\n",
        "    'username':usernames,\n",
        "    'email':emails\n",
        "}\n",
        "doo3 = pd.DataFrame(data)"
      ],
      "metadata": {
        "id": "2PyEr1juJ5q6"
      },
      "execution_count": 68,
      "outputs": []
    },
    {
      "cell_type": "code",
      "source": [
        "doo3"
      ],
      "metadata": {
        "colab": {
          "base_uri": "https://localhost:8080/",
          "height": 174
        },
        "id": "QtM9MjgxKAQo",
        "outputId": "a870adb7-0b98-43da-81d5-33045c0bbdfe"
      },
      "execution_count": 69,
      "outputs": [
        {
          "output_type": "execute_result",
          "data": {
            "text/html": [
              "<div>\n",
              "<style scoped>\n",
              "    .dataframe tbody tr th:only-of-type {\n",
              "        vertical-align: middle;\n",
              "    }\n",
              "\n",
              "    .dataframe tbody tr th {\n",
              "        vertical-align: top;\n",
              "    }\n",
              "\n",
              "    .dataframe thead th {\n",
              "        text-align: right;\n",
              "    }\n",
              "</style>\n",
              "<table border=\"1\" class=\"dataframe\">\n",
              "  <thead>\n",
              "    <tr style=\"text-align: right;\">\n",
              "      <th></th>\n",
              "      <th>username</th>\n",
              "      <th>email</th>\n",
              "    </tr>\n",
              "  </thead>\n",
              "  <tbody>\n",
              "    <tr>\n",
              "      <th>anvar</th>\n",
              "      <td>anvarbek223</td>\n",
              "      <td>anvar@gmail.com</td>\n",
              "    </tr>\n",
              "    <tr>\n",
              "      <th>olim</th>\n",
              "      <td>olimtoy</td>\n",
              "      <td>olim@mail.ru</td>\n",
              "    </tr>\n",
              "    <tr>\n",
              "      <th>maryam</th>\n",
              "      <td>mary334455</td>\n",
              "      <td>mary33@gmail.com</td>\n",
              "    </tr>\n",
              "    <tr>\n",
              "      <th>javohir</th>\n",
              "      <td>javohir445</td>\n",
              "      <td>javohir445@gmail.com</td>\n",
              "    </tr>\n",
              "  </tbody>\n",
              "</table>\n",
              "</div>"
            ],
            "text/plain": [
              "            username                 email\n",
              "anvar    anvarbek223       anvar@gmail.com\n",
              "olim         olimtoy          olim@mail.ru\n",
              "maryam    mary334455      mary33@gmail.com\n",
              "javohir   javohir445  javohir445@gmail.com"
            ]
          },
          "metadata": {},
          "execution_count": 69
        }
      ]
    },
    {
      "cell_type": "code",
      "source": [
        "data2 = {\n",
        "    'username':{\"olim\":\"olimjon21\", \"maryam\":\"maryam2020\"},\n",
        "    'email':{\"olim\":\"olimjon21@mail.ru\", \"maryam\":\"maryam20@gmail.com\"}\n",
        "}"
      ],
      "metadata": {
        "id": "risAlgLfKUz-"
      },
      "execution_count": 70,
      "outputs": []
    },
    {
      "cell_type": "code",
      "source": [
        "doo2 = df.append(pd.DataFrame(data2))"
      ],
      "metadata": {
        "id": "tv2IlrfBKbHs"
      },
      "execution_count": 74,
      "outputs": []
    },
    {
      "cell_type": "code",
      "source": [
        "doo2"
      ],
      "metadata": {
        "colab": {
          "base_uri": "https://localhost:8080/",
          "height": 238
        },
        "id": "8N9AHdfvKgCm",
        "outputId": "4f5f4844-eb63-4553-ed02-c0996704de55"
      },
      "execution_count": 75,
      "outputs": [
        {
          "output_type": "execute_result",
          "data": {
            "text/html": [
              "<div>\n",
              "<style scoped>\n",
              "    .dataframe tbody tr th:only-of-type {\n",
              "        vertical-align: middle;\n",
              "    }\n",
              "\n",
              "    .dataframe tbody tr th {\n",
              "        vertical-align: top;\n",
              "    }\n",
              "\n",
              "    .dataframe thead th {\n",
              "        text-align: right;\n",
              "    }\n",
              "</style>\n",
              "<table border=\"1\" class=\"dataframe\">\n",
              "  <thead>\n",
              "    <tr style=\"text-align: right;\">\n",
              "      <th></th>\n",
              "      <th>username</th>\n",
              "      <th>email</th>\n",
              "    </tr>\n",
              "  </thead>\n",
              "  <tbody>\n",
              "    <tr>\n",
              "      <th>anvar</th>\n",
              "      <td>anvarbek223</td>\n",
              "      <td>anvar@gmail.com</td>\n",
              "    </tr>\n",
              "    <tr>\n",
              "      <th>olim</th>\n",
              "      <td>olimtoy</td>\n",
              "      <td>olim@mail.ru</td>\n",
              "    </tr>\n",
              "    <tr>\n",
              "      <th>maryam</th>\n",
              "      <td>mary334455</td>\n",
              "      <td>mary33@gmail.com</td>\n",
              "    </tr>\n",
              "    <tr>\n",
              "      <th>javohir</th>\n",
              "      <td>javohir445</td>\n",
              "      <td>javohir445@gmail.com</td>\n",
              "    </tr>\n",
              "    <tr>\n",
              "      <th>olim</th>\n",
              "      <td>olimjon21</td>\n",
              "      <td>olimjon21@mail.ru</td>\n",
              "    </tr>\n",
              "    <tr>\n",
              "      <th>maryam</th>\n",
              "      <td>maryam2020</td>\n",
              "      <td>maryam20@gmail.com</td>\n",
              "    </tr>\n",
              "  </tbody>\n",
              "</table>\n",
              "</div>"
            ],
            "text/plain": [
              "            username                 email\n",
              "anvar    anvarbek223       anvar@gmail.com\n",
              "olim         olimtoy          olim@mail.ru\n",
              "maryam    mary334455      mary33@gmail.com\n",
              "javohir   javohir445  javohir445@gmail.com\n",
              "olim       olimjon21     olimjon21@mail.ru\n",
              "maryam    maryam2020    maryam20@gmail.com"
            ]
          },
          "metadata": {},
          "execution_count": 75
        }
      ]
    },
    {
      "cell_type": "code",
      "source": [
        "doo2.index"
      ],
      "metadata": {
        "colab": {
          "base_uri": "https://localhost:8080/"
        },
        "id": "Qd38LUMdKy1K",
        "outputId": "086b4eae-0774-4130-d0a3-04710077b46d"
      },
      "execution_count": 76,
      "outputs": [
        {
          "output_type": "execute_result",
          "data": {
            "text/plain": [
              "Index(['anvar', 'olim', 'maryam', 'javohir', 'olim', 'maryam'], dtype='object')"
            ]
          },
          "metadata": {},
          "execution_count": 76
        }
      ]
    },
    {
      "cell_type": "markdown",
      "source": [
        "### Bazi `Index` metodlar va parametrlar"
      ],
      "metadata": {
        "id": "69c_DCFqK839"
      }
    },
    {
      "cell_type": "code",
      "source": [
        "new_ind = pd.Index(['olim','nafisa', 'hamida'])"
      ],
      "metadata": {
        "id": "NFqCvi6cK3qO"
      },
      "execution_count": 79,
      "outputs": []
    },
    {
      "cell_type": "code",
      "source": [
        "new_ind"
      ],
      "metadata": {
        "colab": {
          "base_uri": "https://localhost:8080/"
        },
        "id": "mUHvMbstLM2i",
        "outputId": "0144a795-ba4f-4a70-8d4f-a04a468a751e"
      },
      "execution_count": 80,
      "outputs": [
        {
          "output_type": "execute_result",
          "data": {
            "text/plain": [
              "Index(['olim', 'nafisa', 'hamida'], dtype='object')"
            ]
          },
          "metadata": {},
          "execution_count": 80
        }
      ]
    },
    {
      "cell_type": "code",
      "source": [
        "# **Indeks boshqa indeks tarkbidia ekanini tekshirish**\n",
        "\n",
        "new_ind.isin(doo2.index)"
      ],
      "metadata": {
        "colab": {
          "base_uri": "https://localhost:8080/"
        },
        "id": "56sckRL-LUd0",
        "outputId": "36d91327-3921-4365-e1c7-213e5f72ff00"
      },
      "execution_count": 81,
      "outputs": [
        {
          "output_type": "execute_result",
          "data": {
            "text/plain": [
              "array([ True, False, False])"
            ]
          },
          "metadata": {},
          "execution_count": 81
        }
      ]
    },
    {
      "cell_type": "code",
      "source": [
        "doo2.index.difference(new_ind)"
      ],
      "metadata": {
        "colab": {
          "base_uri": "https://localhost:8080/"
        },
        "id": "HtukkF6VLeFt",
        "outputId": "daf83a59-833f-43d0-8021-66b2fac46c44"
      },
      "execution_count": 83,
      "outputs": [
        {
          "output_type": "execute_result",
          "data": {
            "text/plain": [
              "Index(['anvar', 'javohir', 'maryam'], dtype='object')"
            ]
          },
          "metadata": {},
          "execution_count": 83
        }
      ]
    },
    {
      "cell_type": "code",
      "source": [
        "new_ind.difference(doo2)"
      ],
      "metadata": {
        "colab": {
          "base_uri": "https://localhost:8080/"
        },
        "id": "dKv94E1GLj4S",
        "outputId": "80c6960e-c9b9-424b-a705-c62ae83c7491"
      },
      "execution_count": 85,
      "outputs": [
        {
          "output_type": "execute_result",
          "data": {
            "text/plain": [
              "Index(['hamida', 'nafisa', 'olim'], dtype='object')"
            ]
          },
          "metadata": {},
          "execution_count": 85
        }
      ]
    },
    {
      "cell_type": "code",
      "source": [
        "# **Ikki indeks to'plami**\n",
        "doo2.index.union(new_ind)"
      ],
      "metadata": {
        "colab": {
          "base_uri": "https://localhost:8080/"
        },
        "id": "UuIhc-1ALs3y",
        "outputId": "926ac855-1045-4239-b605-0b708e2e8d11"
      },
      "execution_count": 90,
      "outputs": [
        {
          "output_type": "execute_result",
          "data": {
            "text/plain": [
              "Index(['anvar', 'hamida', 'javohir', 'maryam', 'maryam', 'nafisa', 'olim',\n",
              "       'olim'],\n",
              "      dtype='object')"
            ]
          },
          "metadata": {},
          "execution_count": 90
        }
      ]
    },
    {
      "cell_type": "code",
      "source": [
        "doo2.index"
      ],
      "metadata": {
        "colab": {
          "base_uri": "https://localhost:8080/"
        },
        "id": "rp6k2DdZMbXr",
        "outputId": "c7623dfb-0402-46ad-f085-75bc8edfd9a3"
      },
      "execution_count": 93,
      "outputs": [
        {
          "output_type": "execute_result",
          "data": {
            "text/plain": [
              "Index(['anvar', 'olim', 'maryam', 'javohir', 'olim', 'maryam'], dtype='object')"
            ]
          },
          "metadata": {},
          "execution_count": 93
        }
      ]
    },
    {
      "cell_type": "code",
      "source": [
        "doo2.index.delete(0)"
      ],
      "metadata": {
        "colab": {
          "base_uri": "https://localhost:8080/"
        },
        "id": "U3oDsFSWMei9",
        "outputId": "2b3ef6b9-0350-4fe4-af3b-09a65b38aa25"
      },
      "execution_count": 94,
      "outputs": [
        {
          "output_type": "execute_result",
          "data": {
            "text/plain": [
              "Index(['olim', 'maryam', 'javohir', 'olim', 'maryam'], dtype='object')"
            ]
          },
          "metadata": {},
          "execution_count": 94
        }
      ]
    },
    {
      "cell_type": "code",
      "source": [
        "doo2.drop('olim')"
      ],
      "metadata": {
        "colab": {
          "base_uri": "https://localhost:8080/",
          "height": 174
        },
        "id": "tnQV1yHAMjSl",
        "outputId": "e8f2eb6e-95d0-4a88-b3b9-6cbd79eda914"
      },
      "execution_count": 98,
      "outputs": [
        {
          "output_type": "execute_result",
          "data": {
            "text/html": [
              "<div>\n",
              "<style scoped>\n",
              "    .dataframe tbody tr th:only-of-type {\n",
              "        vertical-align: middle;\n",
              "    }\n",
              "\n",
              "    .dataframe tbody tr th {\n",
              "        vertical-align: top;\n",
              "    }\n",
              "\n",
              "    .dataframe thead th {\n",
              "        text-align: right;\n",
              "    }\n",
              "</style>\n",
              "<table border=\"1\" class=\"dataframe\">\n",
              "  <thead>\n",
              "    <tr style=\"text-align: right;\">\n",
              "      <th></th>\n",
              "      <th>username</th>\n",
              "      <th>email</th>\n",
              "    </tr>\n",
              "  </thead>\n",
              "  <tbody>\n",
              "    <tr>\n",
              "      <th>anvar</th>\n",
              "      <td>anvarbek223</td>\n",
              "      <td>anvar@gmail.com</td>\n",
              "    </tr>\n",
              "    <tr>\n",
              "      <th>maryam</th>\n",
              "      <td>mary334455</td>\n",
              "      <td>mary33@gmail.com</td>\n",
              "    </tr>\n",
              "    <tr>\n",
              "      <th>javohir</th>\n",
              "      <td>javohir445</td>\n",
              "      <td>javohir445@gmail.com</td>\n",
              "    </tr>\n",
              "    <tr>\n",
              "      <th>maryam</th>\n",
              "      <td>maryam2020</td>\n",
              "      <td>maryam20@gmail.com</td>\n",
              "    </tr>\n",
              "  </tbody>\n",
              "</table>\n",
              "</div>"
            ],
            "text/plain": [
              "            username                 email\n",
              "anvar    anvarbek223       anvar@gmail.com\n",
              "maryam    mary334455      mary33@gmail.com\n",
              "javohir   javohir445  javohir445@gmail.com\n",
              "maryam    maryam2020    maryam20@gmail.com"
            ]
          },
          "metadata": {},
          "execution_count": 98
        }
      ]
    },
    {
      "cell_type": "code",
      "source": [
        "doo2.index.drop('anvar')"
      ],
      "metadata": {
        "colab": {
          "base_uri": "https://localhost:8080/",
          "height": 311
        },
        "id": "Om3mSAGKMr--",
        "outputId": "43db7c79-0186-4d04-be57-e03f27111d4d"
      },
      "execution_count": 100,
      "outputs": [
        {
          "output_type": "error",
          "ename": "InvalidIndexError",
          "evalue": "ignored",
          "traceback": [
            "\u001b[0;31m---------------------------------------------------------------------------\u001b[0m",
            "\u001b[0;31mInvalidIndexError\u001b[0m                         Traceback (most recent call last)",
            "\u001b[0;32m<ipython-input-100-3a0e521cb125>\u001b[0m in \u001b[0;36m<module>\u001b[0;34m()\u001b[0m\n\u001b[0;32m----> 1\u001b[0;31m \u001b[0mdoo2\u001b[0m\u001b[0;34m.\u001b[0m\u001b[0mindex\u001b[0m\u001b[0;34m.\u001b[0m\u001b[0mdrop\u001b[0m\u001b[0;34m(\u001b[0m\u001b[0;34m'anvar'\u001b[0m\u001b[0;34m)\u001b[0m\u001b[0;34m\u001b[0m\u001b[0;34m\u001b[0m\u001b[0m\n\u001b[0m",
            "\u001b[0;32m/usr/local/lib/python3.7/dist-packages/pandas/core/indexes/base.py\u001b[0m in \u001b[0;36mdrop\u001b[0;34m(self, labels, errors)\u001b[0m\n\u001b[1;32m   5281\u001b[0m         \u001b[0marr_dtype\u001b[0m \u001b[0;34m=\u001b[0m \u001b[0;34m\"object\"\u001b[0m \u001b[0;32mif\u001b[0m \u001b[0mself\u001b[0m\u001b[0;34m.\u001b[0m\u001b[0mdtype\u001b[0m \u001b[0;34m==\u001b[0m \u001b[0;34m\"object\"\u001b[0m \u001b[0;32melse\u001b[0m \u001b[0;32mNone\u001b[0m\u001b[0;34m\u001b[0m\u001b[0;34m\u001b[0m\u001b[0m\n\u001b[1;32m   5282\u001b[0m         \u001b[0mlabels\u001b[0m \u001b[0;34m=\u001b[0m \u001b[0mcom\u001b[0m\u001b[0;34m.\u001b[0m\u001b[0mindex_labels_to_array\u001b[0m\u001b[0;34m(\u001b[0m\u001b[0mlabels\u001b[0m\u001b[0;34m,\u001b[0m \u001b[0mdtype\u001b[0m\u001b[0;34m=\u001b[0m\u001b[0marr_dtype\u001b[0m\u001b[0;34m)\u001b[0m\u001b[0;34m\u001b[0m\u001b[0;34m\u001b[0m\u001b[0m\n\u001b[0;32m-> 5283\u001b[0;31m         \u001b[0mindexer\u001b[0m \u001b[0;34m=\u001b[0m \u001b[0mself\u001b[0m\u001b[0;34m.\u001b[0m\u001b[0mget_indexer\u001b[0m\u001b[0;34m(\u001b[0m\u001b[0mlabels\u001b[0m\u001b[0;34m)\u001b[0m\u001b[0;34m\u001b[0m\u001b[0;34m\u001b[0m\u001b[0m\n\u001b[0m\u001b[1;32m   5284\u001b[0m         \u001b[0mmask\u001b[0m \u001b[0;34m=\u001b[0m \u001b[0mindexer\u001b[0m \u001b[0;34m==\u001b[0m \u001b[0;34m-\u001b[0m\u001b[0;36m1\u001b[0m\u001b[0;34m\u001b[0m\u001b[0;34m\u001b[0m\u001b[0m\n\u001b[1;32m   5285\u001b[0m         \u001b[0;32mif\u001b[0m \u001b[0mmask\u001b[0m\u001b[0;34m.\u001b[0m\u001b[0many\u001b[0m\u001b[0;34m(\u001b[0m\u001b[0;34m)\u001b[0m\u001b[0;34m:\u001b[0m\u001b[0;34m\u001b[0m\u001b[0;34m\u001b[0m\u001b[0m\n",
            "\u001b[0;32m/usr/local/lib/python3.7/dist-packages/pandas/core/indexes/base.py\u001b[0m in \u001b[0;36mget_indexer\u001b[0;34m(self, target, method, limit, tolerance)\u001b[0m\n\u001b[1;32m   2988\u001b[0m         \u001b[0;32mif\u001b[0m \u001b[0;32mnot\u001b[0m \u001b[0mself\u001b[0m\u001b[0;34m.\u001b[0m\u001b[0mis_unique\u001b[0m\u001b[0;34m:\u001b[0m\u001b[0;34m\u001b[0m\u001b[0;34m\u001b[0m\u001b[0m\n\u001b[1;32m   2989\u001b[0m             raise InvalidIndexError(\n\u001b[0;32m-> 2990\u001b[0;31m                 \u001b[0;34m\"Reindexing only valid with uniquely valued Index objects\"\u001b[0m\u001b[0;34m\u001b[0m\u001b[0;34m\u001b[0m\u001b[0m\n\u001b[0m\u001b[1;32m   2991\u001b[0m             )\n\u001b[1;32m   2992\u001b[0m \u001b[0;34m\u001b[0m\u001b[0m\n",
            "\u001b[0;31mInvalidIndexError\u001b[0m: Reindexing only valid with uniquely valued Index objects"
          ]
        }
      ]
    },
    {
      "cell_type": "code",
      "source": [
        "doo2.index"
      ],
      "metadata": {
        "colab": {
          "base_uri": "https://localhost:8080/"
        },
        "id": "BiLtR90DNHL4",
        "outputId": "475d0689-4c82-43bf-e302-dacbbb6262ec"
      },
      "execution_count": 101,
      "outputs": [
        {
          "output_type": "execute_result",
          "data": {
            "text/plain": [
              "Index(['anvar', 'olim', 'maryam', 'javohir', 'olim', 'maryam'], dtype='object')"
            ]
          },
          "metadata": {},
          "execution_count": 101
        }
      ]
    },
    {
      "cell_type": "code",
      "source": [
        "doo2.index.insert(5, 'misha') # 5- o'ringa 'misha' ni qo'shdik"
      ],
      "metadata": {
        "colab": {
          "base_uri": "https://localhost:8080/"
        },
        "id": "9-TreSBGNM1R",
        "outputId": "8ee20fbc-b1d3-4a73-b764-c53fd8e2f443"
      },
      "execution_count": 103,
      "outputs": [
        {
          "output_type": "execute_result",
          "data": {
            "text/plain": [
              "Index(['anvar', 'olim', 'maryam', 'javohir', 'olim', 'misha', 'maryam'], dtype='object')"
            ]
          },
          "metadata": {},
          "execution_count": 103
        }
      ]
    },
    {
      "cell_type": "code",
      "source": [
        "# `.is_monotonic` va `.is_unique`\n",
        "doo2.index.is_monotonic"
      ],
      "metadata": {
        "colab": {
          "base_uri": "https://localhost:8080/"
        },
        "id": "_cvVnEPNNTVt",
        "outputId": "c6bf3d06-2891-4068-f673-cd087c512ea2"
      },
      "execution_count": 105,
      "outputs": [
        {
          "output_type": "execute_result",
          "data": {
            "text/plain": [
              "False"
            ]
          },
          "metadata": {},
          "execution_count": 105
        }
      ]
    },
    {
      "cell_type": "code",
      "source": [
        "doo2.index.is_unique"
      ],
      "metadata": {
        "colab": {
          "base_uri": "https://localhost:8080/"
        },
        "id": "Zg2g9NszNlf2",
        "outputId": "e0fe6db0-4bc3-4a2e-c468-68b108bf8bb2"
      },
      "execution_count": 106,
      "outputs": [
        {
          "output_type": "execute_result",
          "data": {
            "text/plain": [
              "False"
            ]
          },
          "metadata": {},
          "execution_count": 106
        }
      ]
    },
    {
      "cell_type": "code",
      "source": [
        "new_ind"
      ],
      "metadata": {
        "colab": {
          "base_uri": "https://localhost:8080/"
        },
        "id": "i069TFSRNq40",
        "outputId": "596ff67b-49fe-462a-f19c-117c8bc30ff0"
      },
      "execution_count": 107,
      "outputs": [
        {
          "output_type": "execute_result",
          "data": {
            "text/plain": [
              "Index(['olim', 'nafisa', 'hamida'], dtype='object')"
            ]
          },
          "metadata": {},
          "execution_count": 107
        }
      ]
    },
    {
      "cell_type": "code",
      "source": [
        "new_ind.is_unique"
      ],
      "metadata": {
        "colab": {
          "base_uri": "https://localhost:8080/"
        },
        "id": "f7o823IqNv7I",
        "outputId": "d7193a44-c46f-4e37-fcd2-1d678d62ac93"
      },
      "execution_count": 108,
      "outputs": [
        {
          "output_type": "execute_result",
          "data": {
            "text/plain": [
              "True"
            ]
          },
          "metadata": {},
          "execution_count": 108
        }
      ]
    },
    {
      "cell_type": "code",
      "source": [
        "doo2.index.unique()"
      ],
      "metadata": {
        "colab": {
          "base_uri": "https://localhost:8080/"
        },
        "id": "lpGLR7FNNzXD",
        "outputId": "146d7edb-e7d1-4111-b6d6-ac08e9687078"
      },
      "execution_count": 112,
      "outputs": [
        {
          "output_type": "execute_result",
          "data": {
            "text/plain": [
              "Index(['anvar', 'olim', 'maryam', 'javohir'], dtype='object')"
            ]
          },
          "metadata": {},
          "execution_count": 112
        }
      ]
    },
    {
      "cell_type": "code",
      "source": [
        ""
      ],
      "metadata": {
        "id": "l8RPzWWXN6J9"
      },
      "execution_count": null,
      "outputs": []
    }
  ]
}