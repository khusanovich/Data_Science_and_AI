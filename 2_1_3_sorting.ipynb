{
  "nbformat": 4,
  "nbformat_minor": 0,
  "metadata": {
    "colab": {
      "name": "2.1.3_sorting.ipynb",
      "provenance": [],
      "collapsed_sections": [],
      "authorship_tag": "ABX9TyOX5UE8usz/C8taAZgJUALC",
      "include_colab_link": true
    },
    "kernelspec": {
      "name": "python3",
      "display_name": "Python 3"
    },
    "language_info": {
      "name": "python"
    }
  },
  "cells": [
    {
      "cell_type": "markdown",
      "metadata": {
        "id": "view-in-github",
        "colab_type": "text"
      },
      "source": [
        "<a href=\"https://colab.research.google.com/github/khusanovich/colab-jupyter_notebook/blob/main/2_1_3_sorting.ipynb\" target=\"_parent\"><img src=\"https://colab.research.google.com/assets/colab-badge.svg\" alt=\"Open In Colab\"/></a>"
      ]
    },
    {
      "cell_type": "code",
      "execution_count": 1,
      "metadata": {
        "id": "XeAFJLWpIpzb"
      },
      "outputs": [],
      "source": [
        "import numpy as np"
      ]
    },
    {
      "cell_type": "code",
      "source": [
        "arr = np.random.rand(5) # rand metodi 0 va 1 oralig'idagi sonlardan iborat taxminiy array(massiv) yaratadi"
      ],
      "metadata": {
        "id": "x8uTM_wcbf4N"
      },
      "execution_count": 2,
      "outputs": []
    },
    {
      "cell_type": "code",
      "source": [
        "arr"
      ],
      "metadata": {
        "colab": {
          "base_uri": "https://localhost:8080/"
        },
        "id": "2UIOcD_Jbme8",
        "outputId": "628752f2-eb1e-48b7-b3c6-6c2a97f0b2ed"
      },
      "execution_count": 3,
      "outputs": [
        {
          "output_type": "execute_result",
          "data": {
            "text/plain": [
              "array([0.75643318, 0.82723886, 0.65929704, 0.13357788, 0.81188388])"
            ]
          },
          "metadata": {},
          "execution_count": 3
        }
      ]
    },
    {
      "cell_type": "markdown",
      "source": [
        "### `sort` funkiyasi"
      ],
      "metadata": {
        "id": "dnTU6cz3b5Uz"
      }
    },
    {
      "cell_type": "code",
      "source": [
        "# 1- usul\n",
        "sorted_arr = np.sort(arr) #  arr massivini tartiblangan ko'rinishini sorted_arr joylaydi\n",
        "sorted_arr"
      ],
      "metadata": {
        "colab": {
          "base_uri": "https://localhost:8080/"
        },
        "id": "DXT_eppBbm9x",
        "outputId": "fe369fad-61c1-4639-e8a7-02c5006128b2"
      },
      "execution_count": 5,
      "outputs": [
        {
          "output_type": "execute_result",
          "data": {
            "text/plain": [
              "array([0.13357788, 0.65929704, 0.75643318, 0.81188388, 0.82723886])"
            ]
          },
          "metadata": {},
          "execution_count": 5
        }
      ]
    },
    {
      "cell_type": "code",
      "source": [
        "# 2- usul\n",
        "arr.sort()\n"
      ],
      "metadata": {
        "id": "z5qn4CMpcEJ5"
      },
      "execution_count": 6,
      "outputs": []
    },
    {
      "cell_type": "code",
      "source": [
        "arr"
      ],
      "metadata": {
        "colab": {
          "base_uri": "https://localhost:8080/"
        },
        "id": "EFGFSfACcYRh",
        "outputId": "d8a4d1a0-0af8-454b-fff4-8801a9fe9ddf"
      },
      "execution_count": 7,
      "outputs": [
        {
          "output_type": "execute_result",
          "data": {
            "text/plain": [
              "array([0.13357788, 0.65929704, 0.75643318, 0.81188388, 0.82723886])"
            ]
          },
          "metadata": {},
          "execution_count": 7
        }
      ]
    },
    {
      "cell_type": "code",
      "source": [
        "# teskari tartiblash\n",
        "rev_arr = -np.sort(-arr)\n",
        "rev_arr"
      ],
      "metadata": {
        "colab": {
          "base_uri": "https://localhost:8080/"
        },
        "id": "TVRXyJtOcT4_",
        "outputId": "436402eb-77f4-4591-a835-07ff34ec86c5"
      },
      "execution_count": 10,
      "outputs": [
        {
          "output_type": "execute_result",
          "data": {
            "text/plain": [
              "array([0.82723886, 0.81188388, 0.75643318, 0.65929704, 0.13357788])"
            ]
          },
          "metadata": {},
          "execution_count": 10
        }
      ]
    },
    {
      "cell_type": "code",
      "source": [
        "# 2d array\n",
        "arr2d = np.random.randint(10, size=(4, 5))\n",
        "arr2d"
      ],
      "metadata": {
        "colab": {
          "base_uri": "https://localhost:8080/"
        },
        "id": "KQeIzS6ncl7P",
        "outputId": "0cbc4189-02b2-428b-e2de-b1882be4ce1c"
      },
      "execution_count": 25,
      "outputs": [
        {
          "output_type": "execute_result",
          "data": {
            "text/plain": [
              "array([[4, 6, 1, 3, 2],\n",
              "       [4, 7, 5, 8, 6],\n",
              "       [2, 3, 8, 0, 0],\n",
              "       [7, 5, 7, 1, 0]])"
            ]
          },
          "metadata": {},
          "execution_count": 25
        }
      ]
    },
    {
      "cell_type": "code",
      "source": [
        "arr2d.ndim"
      ],
      "metadata": {
        "colab": {
          "base_uri": "https://localhost:8080/"
        },
        "id": "KTwhrZWKc4ZH",
        "outputId": "41a943b4-f27c-47c6-bf6a-3c99a0d07dd1"
      },
      "execution_count": 26,
      "outputs": [
        {
          "output_type": "execute_result",
          "data": {
            "text/plain": [
              "2"
            ]
          },
          "metadata": {},
          "execution_count": 26
        }
      ]
    },
    {
      "cell_type": "code",
      "source": [
        "row_sort = np.sort(arr2d, axis=1) # qator tartiblaydi\n",
        "row_sort"
      ],
      "metadata": {
        "colab": {
          "base_uri": "https://localhost:8080/"
        },
        "id": "T89rI-Zwc6Ia",
        "outputId": "381c88ea-47d7-4003-fb2f-5487273bec7e"
      },
      "execution_count": 27,
      "outputs": [
        {
          "output_type": "execute_result",
          "data": {
            "text/plain": [
              "array([[1, 2, 3, 4, 6],\n",
              "       [4, 5, 6, 7, 8],\n",
              "       [0, 0, 2, 3, 8],\n",
              "       [0, 1, 5, 7, 7]])"
            ]
          },
          "metadata": {},
          "execution_count": 27
        }
      ]
    },
    {
      "cell_type": "code",
      "source": [
        "col_sort = np.sort(arr2d, axis=0) # ustunni tartiblaydi\n",
        "col_sort"
      ],
      "metadata": {
        "colab": {
          "base_uri": "https://localhost:8080/"
        },
        "id": "4C9xriOwdfUm",
        "outputId": "43ef135a-36db-4155-d235-517de88ded64"
      },
      "execution_count": 28,
      "outputs": [
        {
          "output_type": "execute_result",
          "data": {
            "text/plain": [
              "array([[2, 3, 1, 0, 0],\n",
              "       [4, 5, 5, 1, 0],\n",
              "       [4, 6, 7, 3, 2],\n",
              "       [7, 7, 8, 8, 6]])"
            ]
          },
          "metadata": {},
          "execution_count": 28
        }
      ]
    },
    {
      "cell_type": "code",
      "source": [
        ""
      ],
      "metadata": {
        "id": "LyqDQ4S_d8bJ"
      },
      "execution_count": null,
      "outputs": []
    }
  ]
}