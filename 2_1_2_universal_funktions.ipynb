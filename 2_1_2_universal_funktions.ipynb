{
  "nbformat": 4,
  "nbformat_minor": 0,
  "metadata": {
    "colab": {
      "name": "2.1.2_universal_funktions.ipynb",
      "provenance": [],
      "collapsed_sections": [],
      "authorship_tag": "ABX9TyMwhLCWZCoy/bVyp7jVttfV",
      "include_colab_link": true
    },
    "kernelspec": {
      "name": "python3",
      "display_name": "Python 3"
    },
    "language_info": {
      "name": "python"
    }
  },
  "cells": [
    {
      "cell_type": "markdown",
      "metadata": {
        "id": "view-in-github",
        "colab_type": "text"
      },
      "source": [
        "<a href=\"https://colab.research.google.com/github/khusanovich/colab-jupyter_notebook/blob/main/2_1_2_universal_funktions.ipynb\" target=\"_parent\"><img src=\"https://colab.research.google.com/assets/colab-badge.svg\" alt=\"Open In Colab\"/></a>"
      ]
    },
    {
      "cell_type": "code",
      "metadata": {
        "id": "aJKQI-zwMBKf"
      },
      "source": [
        "import numpy as np"
      ],
      "execution_count": 1,
      "outputs": []
    },
    {
      "cell_type": "markdown",
      "source": [
        "2.1.2. Universal funksiyalar\n",
        "\n",
        "Unary funksiyalar (bitta argument qabul qiluvchi funkisya)\n",
        "\n",
        "sqrt, square, exp, log, modf, sign, isnan funksiyalarini ko'rib chiqamiz"
      ],
      "metadata": {
        "id": "SnwlVDMf1if3"
      }
    },
    {
      "cell_type": "code",
      "source": [
        "arr0 = np.arange(10) # 0 ~ 10 gacha bo'lgan elementlardan iborat massivni qaytaradi"
      ],
      "metadata": {
        "id": "645YLVOM09Rn"
      },
      "execution_count": 4,
      "outputs": []
    },
    {
      "cell_type": "code",
      "source": [
        "arr0"
      ],
      "metadata": {
        "colab": {
          "base_uri": "https://localhost:8080/"
        },
        "id": "7Lyoct1V1uJj",
        "outputId": "4f141a25-333c-4ec0-fa1a-5a2aad18565f"
      },
      "execution_count": 5,
      "outputs": [
        {
          "output_type": "execute_result",
          "data": {
            "text/plain": [
              "array([0, 1, 2, 3, 4, 5, 6, 7, 8, 9])"
            ]
          },
          "metadata": {},
          "execution_count": 5
        }
      ]
    },
    {
      "cell_type": "markdown",
      "source": [
        "### `sqrt` massivning xar bir elementini kvadrat ildizni qaytaradi\n"
      ],
      "metadata": {
        "id": "QtBZVMED3Zat"
      }
    },
    {
      "cell_type": "code",
      "source": [
        "np.sqrt(arr0)"
      ],
      "metadata": {
        "colab": {
          "base_uri": "https://localhost:8080/"
        },
        "id": "paVVzb3b1u-I",
        "outputId": "c3d0db4d-58d5-42fb-facf-9fabf6f2ee72"
      },
      "execution_count": 6,
      "outputs": [
        {
          "output_type": "execute_result",
          "data": {
            "text/plain": [
              "array([0.        , 1.        , 1.41421356, 1.73205081, 2.        ,\n",
              "       2.23606798, 2.44948974, 2.64575131, 2.82842712, 3.        ])"
            ]
          },
          "metadata": {},
          "execution_count": 6
        }
      ]
    },
    {
      "cell_type": "markdown",
      "source": [
        "### `square` massivning xar bir elementini kvadratga oshiradi\n"
      ],
      "metadata": {
        "id": "V0E5HYp43lOZ"
      }
    },
    {
      "cell_type": "code",
      "source": [
        "np.square(arr0)"
      ],
      "metadata": {
        "colab": {
          "base_uri": "https://localhost:8080/"
        },
        "id": "TRhZ8kNl3gQu",
        "outputId": "71fb411a-01e7-4669-e347-de79f4a7af12"
      },
      "execution_count": 7,
      "outputs": [
        {
          "output_type": "execute_result",
          "data": {
            "text/plain": [
              "array([ 0,  1,  4,  9, 16, 25, 36, 49, 64, 81])"
            ]
          },
          "metadata": {},
          "execution_count": 7
        }
      ]
    },
    {
      "cell_type": "markdown",
      "source": [
        "### `exp` massivning xar bir elementini eksponentini qaytaradi"
      ],
      "metadata": {
        "id": "iid4mTmz3xvF"
      }
    },
    {
      "cell_type": "code",
      "source": [
        "np.exp(arr0)"
      ],
      "metadata": {
        "colab": {
          "base_uri": "https://localhost:8080/"
        },
        "id": "P6YHIQuh3sVb",
        "outputId": "75145809-26d4-432b-cea8-ae94f92c069b"
      },
      "execution_count": 8,
      "outputs": [
        {
          "output_type": "execute_result",
          "data": {
            "text/plain": [
              "array([1.00000000e+00, 2.71828183e+00, 7.38905610e+00, 2.00855369e+01,\n",
              "       5.45981500e+01, 1.48413159e+02, 4.03428793e+02, 1.09663316e+03,\n",
              "       2.98095799e+03, 8.10308393e+03])"
            ]
          },
          "metadata": {},
          "execution_count": 8
        }
      ]
    },
    {
      "cell_type": "markdown",
      "source": [
        "### `log` massivning xar bir logorifmini hisoblaydi"
      ],
      "metadata": {
        "id": "WJVDB76C3_Za"
      }
    },
    {
      "cell_type": "code",
      "source": [
        "np.log(arr0[1:])  # arr nomli massivning 0-elementdan tashqari barcha elementlarini logarifmini hisoblaydi (loge)"
      ],
      "metadata": {
        "colab": {
          "base_uri": "https://localhost:8080/"
        },
        "id": "zMUVnRNN36EM",
        "outputId": "e15303a0-40c2-46fd-d409-4dfffc6a76e0"
      },
      "execution_count": 13,
      "outputs": [
        {
          "output_type": "execute_result",
          "data": {
            "text/plain": [
              "array([0.        , 0.69314718, 1.09861229, 1.38629436, 1.60943791,\n",
              "       1.79175947, 1.94591015, 2.07944154, 2.19722458])"
            ]
          },
          "metadata": {},
          "execution_count": 13
        }
      ]
    },
    {
      "cell_type": "markdown",
      "source": [
        "### `modf` bu funksiya haqiqiy sonlarni butun va qoldiq qismlarini ajratib beruvchi funksiya"
      ],
      "metadata": {
        "id": "8MpQpEsx4ZkC"
      }
    },
    {
      "cell_type": "code",
      "source": [
        "arr1 = np.random.randn(10)\n",
        "arr1"
      ],
      "metadata": {
        "colab": {
          "base_uri": "https://localhost:8080/"
        },
        "id": "qlL8_NGj4CtF",
        "outputId": "ee9d27c0-6fcd-4820-88ed-7d1925ca4077"
      },
      "execution_count": 16,
      "outputs": [
        {
          "output_type": "execute_result",
          "data": {
            "text/plain": [
              "array([-0.01030888,  1.09942122, -1.4938024 ,  0.43725935, -0.59118174,\n",
              "        0.89115578, -1.54523177,  0.60991792,  1.41926675,  0.73656344])"
            ]
          },
          "metadata": {},
          "execution_count": 16
        }
      ]
    },
    {
      "cell_type": "code",
      "source": [
        "butun, qoldiq = np.modf(arr1) # arr1 ning elementlarini qoldiq va butun qismlarini ikkita massivga ajratadi"
      ],
      "metadata": {
        "id": "yZC2bD4y4hjF"
      },
      "execution_count": 17,
      "outputs": []
    },
    {
      "cell_type": "code",
      "source": [
        "print(butun)\n",
        "print(qoldiq)"
      ],
      "metadata": {
        "colab": {
          "base_uri": "https://localhost:8080/"
        },
        "id": "3wS9a7Lt4uuT",
        "outputId": "409febb1-4d02-4997-e651-948c60197cf1"
      },
      "execution_count": 18,
      "outputs": [
        {
          "output_type": "stream",
          "name": "stdout",
          "text": [
            "[-0.01030888  0.09942122 -0.4938024   0.43725935 -0.59118174  0.89115578\n",
            " -0.54523177  0.60991792  0.41926675  0.73656344]\n",
            "[-0.  1. -1.  0. -0.  0. -1.  0.  1.  0.]\n"
          ]
        }
      ]
    },
    {
      "cell_type": "markdown",
      "source": [
        "### `sign` funkisyasi massiv elementlarini qiymati manfiy bo'lsa `-1` va aksincha musbat bo'lsa `1` ni qaytaradi"
      ],
      "metadata": {
        "id": "PIz4Ikwe5IeN"
      }
    },
    {
      "cell_type": "code",
      "source": [
        "np.sign(arr1)"
      ],
      "metadata": {
        "colab": {
          "base_uri": "https://localhost:8080/"
        },
        "id": "T3qe7pfv4zVz",
        "outputId": "9adc9c1d-a4fa-4a76-9621-7c9bc879e313"
      },
      "execution_count": 20,
      "outputs": [
        {
          "output_type": "execute_result",
          "data": {
            "text/plain": [
              "array([-1.,  1., -1.,  1., -1.,  1., -1.,  1.,  1.,  1.])"
            ]
          },
          "metadata": {},
          "execution_count": 20
        }
      ]
    },
    {
      "cell_type": "markdown",
      "source": [
        "### `isnan` massivning elementlarida NaN ma'lumoti bo'lsa `True` qaytaradi va aksincha esa `False` qaytaradi"
      ],
      "metadata": {
        "id": "gAWOd2Ud5WW8"
      }
    },
    {
      "cell_type": "code",
      "source": [
        "arr1"
      ],
      "metadata": {
        "colab": {
          "base_uri": "https://localhost:8080/"
        },
        "id": "MiuJzKcN5GQR",
        "outputId": "202f6e2b-d106-4b04-910a-c190aac4c061"
      },
      "execution_count": 21,
      "outputs": [
        {
          "output_type": "execute_result",
          "data": {
            "text/plain": [
              "array([-0.01030888,  1.09942122, -1.4938024 ,  0.43725935, -0.59118174,\n",
              "        0.89115578, -1.54523177,  0.60991792,  1.41926675,  0.73656344])"
            ]
          },
          "metadata": {},
          "execution_count": 21
        }
      ]
    },
    {
      "cell_type": "code",
      "source": [
        "np.isnan(arr1)"
      ],
      "metadata": {
        "colab": {
          "base_uri": "https://localhost:8080/"
        },
        "id": "Ld__rFdt5a2o",
        "outputId": "64276ce2-f48d-4de4-a2d6-47987c81052d"
      },
      "execution_count": 22,
      "outputs": [
        {
          "output_type": "execute_result",
          "data": {
            "text/plain": [
              "array([False, False, False, False, False, False, False, False, False,\n",
              "       False])"
            ]
          },
          "metadata": {},
          "execution_count": 22
        }
      ]
    },
    {
      "cell_type": "code",
      "source": [
        "arr1[0] = np.NaN # 0- elementimizni nan ga almashtirish"
      ],
      "metadata": {
        "id": "u7bLFJlo5faE"
      },
      "execution_count": 23,
      "outputs": []
    },
    {
      "cell_type": "code",
      "source": [
        "np.isnan(arr1)"
      ],
      "metadata": {
        "colab": {
          "base_uri": "https://localhost:8080/"
        },
        "id": "1tEoZIDn5rcF",
        "outputId": "8ddff32e-02d4-4b22-d6ae-eff0ad31aeea"
      },
      "execution_count": 24,
      "outputs": [
        {
          "output_type": "execute_result",
          "data": {
            "text/plain": [
              "array([ True, False, False, False, False, False, False, False, False,\n",
              "       False])"
            ]
          },
          "metadata": {},
          "execution_count": 24
        }
      ]
    },
    {
      "cell_type": "code",
      "source": [
        "arr1"
      ],
      "metadata": {
        "colab": {
          "base_uri": "https://localhost:8080/"
        },
        "id": "Cajw-zRw5uUL",
        "outputId": "086969b5-1ff9-4031-a077-7874b2e81a93"
      },
      "execution_count": 25,
      "outputs": [
        {
          "output_type": "execute_result",
          "data": {
            "text/plain": [
              "array([        nan,  1.09942122, -1.4938024 ,  0.43725935, -0.59118174,\n",
              "        0.89115578, -1.54523177,  0.60991792,  1.41926675,  0.73656344])"
            ]
          },
          "metadata": {},
          "execution_count": 25
        }
      ]
    },
    {
      "cell_type": "markdown",
      "source": [
        "### Binary funksiyalar (ikkita argument qabul qiluvchi funkisya)\n",
        "### `add`, `multiply`, `maximum` funksiyalarini ko'rib chiqamiz\n",
        "### `add` ikkita massivning mos elementlarini qo'shadi"
      ],
      "metadata": {
        "id": "PKLOMkuh550s"
      }
    },
    {
      "cell_type": "code",
      "source": [
        "arr2 = np.random.randn(10)\n",
        "arr3 = np.random.randn(10)"
      ],
      "metadata": {
        "id": "svi4Opsd5yJM"
      },
      "execution_count": 29,
      "outputs": []
    },
    {
      "cell_type": "code",
      "source": [
        "arr2"
      ],
      "metadata": {
        "colab": {
          "base_uri": "https://localhost:8080/"
        },
        "id": "MoHvt9kt6QN5",
        "outputId": "7dc089e4-2789-4ca3-8fd6-c8643db46120"
      },
      "execution_count": 30,
      "outputs": [
        {
          "output_type": "execute_result",
          "data": {
            "text/plain": [
              "array([-0.6329525 ,  0.67408918, -0.95126054, -0.13404851,  0.12283256,\n",
              "        1.27371848,  0.98244466,  0.4212677 ,  0.80167511,  1.97253313])"
            ]
          },
          "metadata": {},
          "execution_count": 30
        }
      ]
    },
    {
      "cell_type": "code",
      "source": [
        "arr3"
      ],
      "metadata": {
        "colab": {
          "base_uri": "https://localhost:8080/"
        },
        "id": "MLEXo1T_6SwF",
        "outputId": "84cebe82-d977-4d4b-8385-ad82d0c03794"
      },
      "execution_count": 31,
      "outputs": [
        {
          "output_type": "execute_result",
          "data": {
            "text/plain": [
              "array([ 0.24778223, -0.45379952, -0.4683328 ,  0.58986736,  0.87397543,\n",
              "        0.88844783, -0.20518309, -0.57193515,  2.2625502 ,  0.84599227])"
            ]
          },
          "metadata": {},
          "execution_count": 31
        }
      ]
    },
    {
      "cell_type": "code",
      "source": [
        "np.add(arr2, arr3) # arr2 va arr3 ning elementlarini mos ravishda qo'shib beradi"
      ],
      "metadata": {
        "colab": {
          "base_uri": "https://localhost:8080/"
        },
        "id": "OXXUXQes6UEL",
        "outputId": "3d1f406d-cd2c-4e6d-b15d-46405dd4b951"
      },
      "execution_count": 33,
      "outputs": [
        {
          "output_type": "execute_result",
          "data": {
            "text/plain": [
              "array([-0.38517027,  0.22028967, -1.41959334,  0.45581885,  0.99680799,\n",
              "        2.1621663 ,  0.77726157, -0.15066745,  3.06422531,  2.8185254 ])"
            ]
          },
          "metadata": {},
          "execution_count": 33
        }
      ]
    },
    {
      "cell_type": "code",
      "source": [
        "arr2 + arr3 # arr2 va arr3 ning elementlarini mos ravishda qo'shib beradi\n"
      ],
      "metadata": {
        "colab": {
          "base_uri": "https://localhost:8080/"
        },
        "id": "AVjVS_8o6eZa",
        "outputId": "321aa36a-2ae0-40e9-a66f-2c673119157f"
      },
      "execution_count": 34,
      "outputs": [
        {
          "output_type": "execute_result",
          "data": {
            "text/plain": [
              "array([-0.38517027,  0.22028967, -1.41959334,  0.45581885,  0.99680799,\n",
              "        2.1621663 ,  0.77726157, -0.15066745,  3.06422531,  2.8185254 ])"
            ]
          },
          "metadata": {},
          "execution_count": 34
        }
      ]
    },
    {
      "cell_type": "markdown",
      "source": [
        "### `multiply` ikkita massivning mos elementlarini ko'paytiradi"
      ],
      "metadata": {
        "id": "3xNCwTQ86qo3"
      }
    },
    {
      "cell_type": "code",
      "source": [
        "np.multiply(arr2, arr3)"
      ],
      "metadata": {
        "colab": {
          "base_uri": "https://localhost:8080/"
        },
        "id": "jadUIfLf6mox",
        "outputId": "a6c96c7e-1337-4294-a272-23fcdec974d8"
      },
      "execution_count": 35,
      "outputs": [
        {
          "output_type": "execute_result",
          "data": {
            "text/plain": [
              "array([-0.15683438, -0.30590134,  0.44550651, -0.07907084,  0.10735264,\n",
              "        1.13163241, -0.20158103, -0.24093781,  1.81383018,  1.66874778])"
            ]
          },
          "metadata": {},
          "execution_count": 35
        }
      ]
    },
    {
      "cell_type": "markdown",
      "source": [
        "### `maximum` ikkita massivning elementlarin taqqoslab ulardan kattasining qiymatini qaytaradi"
      ],
      "metadata": {
        "id": "xCCimSxg6xg-"
      }
    },
    {
      "cell_type": "code",
      "source": [
        "arr2"
      ],
      "metadata": {
        "colab": {
          "base_uri": "https://localhost:8080/"
        },
        "id": "eM9hPiOZ7FUK",
        "outputId": "757ea9d7-f330-4a23-efb7-820a6bade327"
      },
      "execution_count": 38,
      "outputs": [
        {
          "output_type": "execute_result",
          "data": {
            "text/plain": [
              "array([-0.6329525 ,  0.67408918, -0.95126054, -0.13404851,  0.12283256,\n",
              "        1.27371848,  0.98244466,  0.4212677 ,  0.80167511,  1.97253313])"
            ]
          },
          "metadata": {},
          "execution_count": 38
        }
      ]
    },
    {
      "cell_type": "code",
      "source": [
        "arr3"
      ],
      "metadata": {
        "colab": {
          "base_uri": "https://localhost:8080/"
        },
        "id": "3YeIz9FS7Hud",
        "outputId": "2f154ae5-191b-403f-b3cb-c6991195ed7f"
      },
      "execution_count": 39,
      "outputs": [
        {
          "output_type": "execute_result",
          "data": {
            "text/plain": [
              "array([ 0.24778223, -0.45379952, -0.4683328 ,  0.58986736,  0.87397543,\n",
              "        0.88844783, -0.20518309, -0.57193515,  2.2625502 ,  0.84599227])"
            ]
          },
          "metadata": {},
          "execution_count": 39
        }
      ]
    },
    {
      "cell_type": "code",
      "source": [
        "np.maximum(arr2, arr3) # arr2 va arr3 larning elementlarin taqqoslab, kattasining elementini qaytaradi"
      ],
      "metadata": {
        "colab": {
          "base_uri": "https://localhost:8080/"
        },
        "id": "s4_n9Mjb6uKJ",
        "outputId": "2a595d40-4e89-4cd4-d625-c2b885b4db9b"
      },
      "execution_count": 41,
      "outputs": [
        {
          "output_type": "execute_result",
          "data": {
            "text/plain": [
              "array([ 0.24778223,  0.67408918, -0.4683328 ,  0.58986736,  0.87397543,\n",
              "        1.27371848,  0.98244466,  0.4212677 ,  2.2625502 ,  1.97253313])"
            ]
          },
          "metadata": {},
          "execution_count": 41
        }
      ]
    },
    {
      "cell_type": "code",
      "source": [
        "ar1 = np.random.randn(4)\n",
        "ar2 = np.random.randn(4)"
      ],
      "metadata": {
        "id": "VvQr-qDA64Ld"
      },
      "execution_count": 42,
      "outputs": []
    },
    {
      "cell_type": "code",
      "source": [
        "ar1"
      ],
      "metadata": {
        "colab": {
          "base_uri": "https://localhost:8080/"
        },
        "id": "zpnJbvQL7kRG",
        "outputId": "08b9b117-0078-4bf6-89b0-562789af8634"
      },
      "execution_count": 43,
      "outputs": [
        {
          "output_type": "execute_result",
          "data": {
            "text/plain": [
              "array([ 1.37125247, -1.35949   , -0.5826098 , -1.59916879])"
            ]
          },
          "metadata": {},
          "execution_count": 43
        }
      ]
    },
    {
      "cell_type": "code",
      "source": [
        "ar2"
      ],
      "metadata": {
        "colab": {
          "base_uri": "https://localhost:8080/"
        },
        "id": "GxnHfN3Y7lMa",
        "outputId": "9b34dfd4-9aa3-4c22-d252-1b4df2017c89"
      },
      "execution_count": 44,
      "outputs": [
        {
          "output_type": "execute_result",
          "data": {
            "text/plain": [
              "array([-0.85647075,  0.56372141,  0.10909081, -1.23477506])"
            ]
          },
          "metadata": {},
          "execution_count": 44
        }
      ]
    },
    {
      "cell_type": "code",
      "source": [
        "np.maximum(ar1, ar2)"
      ],
      "metadata": {
        "colab": {
          "base_uri": "https://localhost:8080/"
        },
        "id": "ZuCvTBnH7l09",
        "outputId": "ae367df1-ea90-4dcd-ee2f-0ea9d69e1ea1"
      },
      "execution_count": 45,
      "outputs": [
        {
          "output_type": "execute_result",
          "data": {
            "text/plain": [
              "array([ 1.37125247,  0.56372141,  0.10909081, -1.23477506])"
            ]
          },
          "metadata": {},
          "execution_count": 45
        }
      ]
    },
    {
      "cell_type": "markdown",
      "source": [
        ""
      ],
      "metadata": {
        "id": "GTQuVpz07v3c"
      }
    },
    {
      "cell_type": "code",
      "source": [
        ""
      ],
      "metadata": {
        "id": "NNiV3kya7p2Y"
      },
      "execution_count": null,
      "outputs": []
    }
  ]
}